{
 "cells": [
  {
   "cell_type": "code",
   "execution_count": 4,
   "metadata": {},
   "outputs": [
    {
     "name": "stdout",
     "output_type": "stream",
     "text": [
      "max value =  19\n"
     ]
    }
   ],
   "source": [
    "a = 15\n",
    "b = 7\n",
    "c = 19\n",
    "if a > b:\n",
    "    max = a\n",
    "else:\n",
    "    max = b\n",
    "if c > max:\n",
    "    max = c\n",
    "print(\"max value = \", max)"
   ]
  },
  {
   "cell_type": "code",
   "execution_count": 6,
   "metadata": {},
   "outputs": [
    {
     "name": "stdout",
     "output_type": "stream",
     "text": [
      "max value =  19\n",
      "min value =  7\n"
     ]
    }
   ],
   "source": [
    "nums = [15, 7, 19]\n",
    "max = nums[0]\n",
    "for n in nums:\n",
    "    if n > max:\n",
    "        max = n\n",
    "\n",
    "min = nums[0]\n",
    "for n in nums:\n",
    "    if n < min:\n",
    "        min = n\n",
    "\n",
    "print(\"max value = \", max)\n",
    "print(\"min value = \", min)"
   ]
  },
  {
   "cell_type": "code",
   "execution_count": 7,
   "metadata": {},
   "outputs": [
    {
     "name": "stdout",
     "output_type": "stream",
     "text": [
      "1\n",
      "2\n",
      "3\n",
      "4\n",
      "5\n",
      "6\n",
      "7\n",
      "8\n",
      "9\n",
      "10\n",
      "sum =  55\n"
     ]
    }
   ],
   "source": [
    "sum = 0\n",
    "for i in range(1, 11):\n",
    "    sum = sum + i\n",
    "    print(i)\n",
    "\n",
    "print(\"sum = \", sum)"
   ]
  },
  {
   "cell_type": "code",
   "execution_count": 10,
   "metadata": {},
   "outputs": [
    {
     "name": "stdout",
     "output_type": "stream",
     "text": [
      "12\n",
      "3.142857142857143\n",
      "45\n",
      "pikachu\n",
      "pikachu vs rhydon\n"
     ]
    }
   ],
   "source": [
    "print(3*4)\n",
    "p= 22/7\n",
    "print(p)\n",
    "q = 45\n",
    "print(q)\n",
    "m1 = \"pikachu\"\n",
    "m2 = 'rhydon'\n",
    "isAdult = True\n",
    "print(m1)\n",
    "print(m1 + \" vs \" + m2)"
   ]
  },
  {
   "cell_type": "code",
   "execution_count": 18,
   "metadata": {},
   "outputs": [
    {
     "name": "stdout",
     "output_type": "stream",
     "text": [
      "area = 12.0\n"
     ]
    }
   ],
   "source": [
    "w = input(\"width = \") \n",
    "h = input(\"height = \")\n",
    "print(\"area =\", float(w)*float(h))"
   ]
  },
  {
   "cell_type": "code",
   "execution_count": 19,
   "metadata": {},
   "outputs": [
    {
     "name": "stdout",
     "output_type": "stream",
     "text": [
      "20\n"
     ]
    }
   ],
   "source": [
    "def rectangle(w, h):\n",
    "    area = w * h\n",
    "    return area\n",
    "\n",
    "w = int(input(\"width = \"))\n",
    "h = int(input(\"height = \"))\n",
    "\n",
    "print(rectangle(w, h))"
   ]
  },
  {
   "cell_type": "code",
   "execution_count": 21,
   "metadata": {},
   "outputs": [
    {
     "name": "stdout",
     "output_type": "stream",
     "text": [
      "18.0\n"
     ]
    }
   ],
   "source": [
    "def rectangle(w, h):\n",
    "    area = w * h\n",
    "    return area\n",
    "\n",
    "def triangle(w, h):\n",
    "    area = w * h / 2\n",
    "    return area\n",
    "\n",
    "w = int(input(\"width = \"))\n",
    "h = int(input(\"height = \"))\n",
    "\n",
    "print(triangle(w, h))"
   ]
  },
  {
   "cell_type": "code",
   "execution_count": 26,
   "metadata": {},
   "outputs": [
    {
     "name": "stdout",
     "output_type": "stream",
     "text": [
      "Peter Parker\n",
      "inside fn() Mr. Peter Parker\n",
      "Mr. Peter Parker\n"
     ]
    }
   ],
   "source": [
    "x = \"Peter Parker\"\n",
    "\n",
    "def fn():\n",
    "    x = \"Spiderman\"\n",
    "    print(\"inside fn()\", x)\n",
    "\n",
    "def fn2():\n",
    "    x = \"Mr. \" + x\n",
    "    print(\"inside fn()\", x)\n",
    "\n",
    "def fn3():\n",
    "    global x\n",
    "    x = \"Mr. \" + x\n",
    "    print(\"inside fn()\", x)\n",
    "print(x)\n",
    "fn3()\n",
    "print(x)"
   ]
  },
  {
   "cell_type": "code",
   "execution_count": 30,
   "metadata": {},
   "outputs": [
    {
     "name": "stdout",
     "output_type": "stream",
     "text": [
      "600\n"
     ]
    }
   ],
   "source": [
    "def leap_year(year):\n",
    "    if year % 4 == 0:\n",
    "        return True\n",
    "    else:\n",
    "        return False\n",
    "\n",
    "def leap_year_buddhist(year):\n",
    "    if year % 4 == 3:\n",
    "        return True\n",
    "    else:\n",
    "        return False\n",
    "\n",
    "def is_even(n):\n",
    "    return True if n % 2 == 0 else False\n",
    "    # if n % 2 == 0:\n",
    "    #     return True\n",
    "    # else:\n",
    "        # return False\n",
    "\n",
    "def is_odd(n):\n",
    "    return not(is_even(n))\n",
    "    # if n % 2 == 0:\n",
    "    #     return True\n",
    "    # else:\n",
    "    #     return False\n",
    "\n",
    "def promotion(come, pay, per_head, pax):\n",
    "    # come 4, pay 2\n",
    "    # come 5, pay = ?\n",
    "    # per_head = 100\n",
    "    # 200 + 100\n",
    "    return (pax // come) * (pay * per_head) + (pax % come) * per_head\n",
    "\n",
    "# print(leap_year(2015))\n",
    "# print(leap_year_buddhist(2559))\n",
    "# print(is_even(5))\n",
    "# print(is_odd(5))\n",
    "print(promotion(4, 2, 100, 10))"
   ]
  },
  {
   "cell_type": "code",
   "execution_count": 33,
   "metadata": {},
   "outputs": [
    {
     "name": "stdout",
     "output_type": "stream",
     "text": [
      "2000\n"
     ]
    }
   ],
   "source": [
    "# come 3, pay 2\n",
    "# come 4, pay 3\n",
    "\n",
    "come_x = 4\n",
    "pay_y = 3\n",
    "per_head = 100\n",
    "pax = 9\n",
    "\n",
    "# print((pax // come_x) * (pay_y * per_head))\n",
    "# print(pax % come_x * per_head)\n",
    "# total = (pax // come_x) * (pay_y * per_head) + (pax % come_x * per_head)\n",
    "# print(total)\n",
    "\n",
    "def come_x_pay_y(pax, per_head, come_x = 4, pay_y = 3):\n",
    "    total = (pax // come_x) * (pay_y * per_head) + (pax % come_x * per_head)\n",
    "    return total\n",
    "\n",
    "print(come_x_pay_y(10, 250, 7, 5))"
   ]
  },
  {
   "cell_type": "code",
   "execution_count": 34,
   "metadata": {},
   "outputs": [
    {
     "name": "stdout",
     "output_type": "stream",
     "text": [
      "1. rectangle\n",
      "2. triangle คำนวณพื้นที่สามเหลี่ยม\n",
      "triangle area\n",
      "36.0\n"
     ]
    }
   ],
   "source": [
    "def rectangle(w, h):\n",
    "    area = w * h\n",
    "    return area\n",
    "\n",
    "def triangle(w, h):\n",
    "    return .5 * w * h\n",
    "\n",
    "print(\"1. rectangle\")\n",
    "print(\"2. triangle คำนวณพื้นที่สามเหลี่ยม\")\n",
    "n = input(\"please select option: \")\n",
    "w = int(input(\"width = \"))\n",
    "h = int(input(\"height = \"))\n",
    "if n == \"1\":\n",
    "    print(\"rectangle area\")\n",
    "    print(rectangle(w, h))\n",
    "else:\n",
    "    print(\"triangle area\")\n",
    "    print(triangle(w, h))\n"
   ]
  },
  {
   "cell_type": "code",
   "execution_count": 41,
   "metadata": {},
   "outputs": [
    {
     "name": "stdout",
     "output_type": "stream",
     "text": [
      "False\n",
      "bonjour\n",
      "None\n"
     ]
    }
   ],
   "source": [
    "def greeting(lang):\n",
    "    if lang == \"th\":\n",
    "        print(\"sawadee\")\n",
    "    else:\n",
    "        print(\"hello\")\n",
    "\n",
    "def greeting2(lang):\n",
    "    if lang == \"th\":\n",
    "        print(\"sawadee\")\n",
    "    elif lang == \"jp\":\n",
    "        print(\"konnichiwa\")\n",
    "    elif lang == \"fr\":\n",
    "        print(\"bonjour\")\n",
    "    else:\n",
    "        print(\"hello\")\n",
    "\n",
    "def meet_req(eng, interview):\n",
    "    if eng > 70 and interview > 80:\n",
    "        return True\n",
    "    else:\n",
    "        return False\n",
    "\n",
    "def meet_req2(eng, interview):\n",
    "    if eng > 70 and interview > 80 and math > 65:\n",
    "        return True\n",
    "    else:\n",
    "        return False\n",
    "\n",
    "\n",
    "print(meet_req2(70, 80))\n",
    "print(greeting2(\"fr\"))"
   ]
  },
  {
   "cell_type": "code",
   "execution_count": 48,
   "metadata": {},
   "outputs": [
    {
     "name": "stdout",
     "output_type": "stream",
     "text": [
      "ok\n",
      "100\n",
      "100\n"
     ]
    }
   ],
   "source": [
    "def ticket(age):\n",
    "    if age <= 5:\n",
    "        return True\n",
    "    else:\n",
    "        return False\n",
    "\n",
    "def ticket2(age):\n",
    "    if age <= 5 or age >= 60:\n",
    "        return 0\n",
    "    else:\n",
    "        return 100\n",
    "\n",
    "def ticket2a(age):\n",
    "    return 0 if age <= 5 or age >= 60 else 100\n",
    "\n",
    "def ticket3(age, is_local):\n",
    "    if (age <= 5 or age >= 60) and is_local:\n",
    "        return 0\n",
    "    else:\n",
    "        return 100\n",
    "\n",
    "def demo(a):\n",
    "    if a >= 10 and a <= 20:\n",
    "        print(\"ok\")\n",
    "    else:\n",
    "        print(\"not ok\")\n",
    "\n",
    "def demo2(a):\n",
    "    if 10 <= a <= 20:\n",
    "        print(\"ok\")\n",
    "    else:\n",
    "        print(\"not ok\")\n",
    "\n",
    "\n",
    "\n",
    "demo(18)\n",
    "print(ticket2(54))\n",
    "print(ticket3(3, False))"
   ]
  },
  {
   "cell_type": "code",
   "execution_count": 51,
   "metadata": {},
   "outputs": [
    {
     "name": "stdout",
     "output_type": "stream",
     "text": [
      "fee =  0\n",
      "fee =  0\n"
     ]
    }
   ],
   "source": [
    "# ค่าบริการพร้อมเพย์\n",
    "# ฟรีค่าธรรมเนียม เมื่อทำรายการไม่เกิน 5000 บาท\n",
    "# ค่าธรรมเนียม 2 บาท เมื่อทำรายการช่วง 5000 - 30000 บาท\n",
    "# ค่าธรรมเนียม 5 บาท เมื่อทำรายการช่วง 30000 - 100000 บาท\n",
    "# ค่าธรรมเนียม 10 บาท เมื่อทำรายการช่วง 100000 - วงเงินที่ธนาคารกำหนด\n",
    "\n",
    "atm = 3000\n",
    "fee = 0\n",
    "if atm <= 5000:\n",
    "    fee = 0\n",
    "elif 5000 < atm <= 30000:\n",
    "    fee = 2\n",
    "elif 30000 < atm <= 100000:\n",
    "    fee = 5\n",
    "else:\n",
    "    fee = 10\n",
    "\n",
    "print(\"fee = \", fee)\n",
    "\n",
    "def basic2():\n",
    "    atm = 6000\n",
    "    if atm > 10000:\n",
    "        fee = 10\n",
    "    elif atm > 30000:\n",
    "        fee = 5\n",
    "    elif atm > 5000:\n",
    "        fee = 2\n",
    "    else:\n",
    "        fee = 0\n",
    "\n",
    "print(\"fee = \", fee)\n",
    "\n",
    "if '_name_' == '_main_':\n",
    "    basic2()\n",
    "    "
   ]
  },
  {
   "cell_type": "code",
   "execution_count": 7,
   "metadata": {},
   "outputs": [
    {
     "name": "stdout",
     "output_type": "stream",
     "text": [
      "you: rock <-> computer: rock -> tie\n",
      "you: rock <-> computer: paper -> you lose...\n",
      "you: rock <-> computer: paper -> you lose...\n",
      "you: scissors <-> computer: rock -> you lose...\n",
      "you: scissors <-> computer: paper -> you win!!\n",
      "you: paper <-> computer: paper -> tie\n",
      "you: paper <-> computer: rock -> you win!!\n",
      "you: paper <-> computer: rock -> you win!!\n",
      "you: paper <-> computer: scissors -> you lose...\n",
      "you: paper <-> computer: scissors -> you lose...\n"
     ]
    },
    {
     "ename": "KeyError",
     "evalue": "''",
     "output_type": "error",
     "traceback": [
      "\u001b[1;31m---------------------------------------------------------------------------\u001b[0m",
      "\u001b[1;31mKeyError\u001b[0m                                  Traceback (most recent call last)",
      "\u001b[1;32m<ipython-input-7-007dd72123c5>\u001b[0m in \u001b[0;36m<module>\u001b[1;34m\u001b[0m\n\u001b[0;32m     26\u001b[0m         \u001b[1;32mbreak\u001b[0m\u001b[1;33m\u001b[0m\u001b[1;33m\u001b[0m\u001b[0m\n\u001b[0;32m     27\u001b[0m     \u001b[1;32melse\u001b[0m\u001b[1;33m:\u001b[0m\u001b[1;33m\u001b[0m\u001b[1;33m\u001b[0m\u001b[0m\n\u001b[1;32m---> 28\u001b[1;33m         \u001b[0mplay\u001b[0m\u001b[1;33m(\u001b[0m\u001b[0mplayer\u001b[0m\u001b[1;33m)\u001b[0m\u001b[1;33m\u001b[0m\u001b[1;33m\u001b[0m\u001b[0m\n\u001b[0m",
      "\u001b[1;32m<ipython-input-7-007dd72123c5>\u001b[0m in \u001b[0;36mplay\u001b[1;34m(player)\u001b[0m\n\u001b[0;32m     16\u001b[0m     \u001b[1;32melse\u001b[0m\u001b[1;33m:\u001b[0m\u001b[1;33m\u001b[0m\u001b[1;33m\u001b[0m\u001b[0m\n\u001b[0;32m     17\u001b[0m         \u001b[0mresult\u001b[0m \u001b[1;33m=\u001b[0m \u001b[1;34m\"you lose...\"\u001b[0m\u001b[1;33m\u001b[0m\u001b[1;33m\u001b[0m\u001b[0m\n\u001b[1;32m---> 18\u001b[1;33m     \u001b[0mprint\u001b[0m\u001b[1;33m(\u001b[0m\u001b[1;34m\"you: {} <-> computer: {} -> {}\"\u001b[0m\u001b[1;33m.\u001b[0m\u001b[0mformat\u001b[0m\u001b[1;33m(\u001b[0m\u001b[0md\u001b[0m\u001b[1;33m[\u001b[0m\u001b[0mplayer\u001b[0m\u001b[1;33m]\u001b[0m\u001b[1;33m,\u001b[0m \u001b[0md\u001b[0m\u001b[1;33m[\u001b[0m\u001b[0mcomputer\u001b[0m\u001b[1;33m]\u001b[0m\u001b[1;33m,\u001b[0m \u001b[0mresult\u001b[0m\u001b[1;33m)\u001b[0m\u001b[1;33m)\u001b[0m\u001b[1;33m\u001b[0m\u001b[1;33m\u001b[0m\u001b[0m\n\u001b[0m\u001b[0;32m     19\u001b[0m     \u001b[1;31m# print(f\"you: {d['player']} <-> computer: {d['computer']} -> {d['result']}\")\u001b[0m\u001b[1;33m\u001b[0m\u001b[1;33m\u001b[0m\u001b[1;33m\u001b[0m\u001b[0m\n\u001b[0;32m     20\u001b[0m     \u001b[1;31m# print(f'you: {d[player]} <-> computer: {d[computer]} -> {result}')\u001b[0m\u001b[1;33m\u001b[0m\u001b[1;33m\u001b[0m\u001b[1;33m\u001b[0m\u001b[0m\n",
      "\u001b[1;31mKeyError\u001b[0m: ''"
     ]
    }
   ],
   "source": [
    "import random\n",
    "\n",
    "def play(player):\n",
    "    # m = (\"r\", \"p\", \"s\")\n",
    "    d = {\"r\": \"rock\", \"p\": \"paper\", \"s\": \"scissors\"}\n",
    "    computer = random.choice(list(d.keys()))\n",
    "    # random.randrange(len(m))\n",
    "    if player == computer:\n",
    "        result = \"tie\"\n",
    "    elif player == \"r\" and computer == \"s\":\n",
    "        result = \"you win!!\"\n",
    "    elif player == \"p\" and computer == \"r\":\n",
    "        result = \"you win!!\"\n",
    "    elif player == \"s\" and computer == \"p\":\n",
    "        result = \"you win!!\"\n",
    "    else:\n",
    "        result = \"you lose...\"\n",
    "    print(\"you: {} <-> computer: {} -> {}\".format(d[player], d[computer], result))\n",
    "    # print(f\"you: {d['player']} <-> computer: {d['computer']} -> {d['result']}\")\n",
    "    # print(f'you: {d[player]} <-> computer: {d[computer]} -> {result}')\n",
    "\n",
    "while True:\n",
    "    player = input(\"[r]ock, [p]aper, [s]cissors, e[x]it ->\")\n",
    "    # player = input()\n",
    "    if player == \"x\":\n",
    "        break\n",
    "    else:\n",
    "        play(player)"
   ]
  },
  {
   "cell_type": "code",
   "execution_count": 1,
   "metadata": {},
   "outputs": [
    {
     "name": "stdout",
     "output_type": "stream",
     "text": [
      "adb\n"
     ]
    }
   ],
   "source": [
    "x = input(\"abckddiafdfd\")\n",
    "print(x)"
   ]
  },
  {
   "cell_type": "code",
   "execution_count": 61,
   "metadata": {},
   "outputs": [
    {
     "name": "stdout",
     "output_type": "stream",
     "text": [
      "<class 'str'>\n"
     ]
    }
   ],
   "source": [
    "print(type(\"e[x]it\"))"
   ]
  },
  {
   "cell_type": "code",
   "execution_count": null,
   "metadata": {},
   "outputs": [],
   "source": [
    "input ม้ันรับค่ามาเป็น string จะคำนวณไม่ได้ต้องแปลงเป้นตัวเลขก่อน\n",
    "เค\n",
    "ทำต่อซิ นี่แค่บทแรกๆเอง\n",
    "ดูในไอแพดอยู่"
   ]
  }
 ],
 "metadata": {
  "kernelspec": {
   "display_name": "base",
   "language": "python",
   "name": "python3"
  },
  "language_info": {
   "codemirror_mode": {
    "name": "ipython",
    "version": 3
   },
   "file_extension": ".py",
   "mimetype": "text/x-python",
   "name": "python",
   "nbconvert_exporter": "python",
   "pygments_lexer": "ipython3",
   "version": "3.8.5"
  }
 },
 "nbformat": 4,
 "nbformat_minor": 2
}
