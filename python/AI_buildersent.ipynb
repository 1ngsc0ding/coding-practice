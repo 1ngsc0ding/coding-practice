{
 "cells": [
  {
   "cell_type": "code",
   "execution_count": 1,
   "metadata": {},
   "outputs": [
    {
     "data": {
      "text/plain": [
       "['[', '1', ' ', ',', '2', ' ', ' ', ',', '3', ' ', ',', ' ', '4', ']']"
      ]
     },
     "execution_count": 1,
     "metadata": {},
     "output_type": "execute_result"
    }
   ],
   "source": [
    "a = '[1 ,2  ,3 , 4]'\n",
    "list(a)"
   ]
  },
  {
   "cell_type": "code",
   "execution_count": 5,
   "metadata": {},
   "outputs": [
    {
     "name": "stdout",
     "output_type": "stream",
     "text": [
      "Enter list of numbers:\n",
      "[1.0, 2.0, 3.0, 4.0]\n",
      "Arithmetic\n"
     ]
    }
   ],
   "source": [
    "def ArithGeo(arr):\n",
    "    arith, geo = True, True\n",
    "    diff = arr[1] - arr[0]\n",
    "    div = arr[1] / arr[0]\n",
    "    for i in range(1, len(arr)):\n",
    "        if (arr[i] - arr[i-1]) != diff:\n",
    "            arith = False\n",
    "    if arith:\n",
    "        return \"Arithmetic\"\n",
    "    else:\n",
    "        diff = arr[1] / arr[0]\n",
    "        for i in range(1, len(arr)):\n",
    "            if (arr[i] / arr[i-1]) != div:\n",
    "                geo = False\n",
    "        if geo:\n",
    "            return \"Geometric\"\n",
    "        else:\n",
    "            return \"-1\"\n",
    "print('Enter list of numbers:')\n",
    "x = input()\n",
    "y = []\n",
    "# my_string = \"[1,2,3,4]\"\n",
    "\n",
    "number_list = [float(item) for item in x.strip('[]').split(\",\")]\n",
    "\n",
    "print(number_list)\n",
    "print(ArithGeo(number_list))"
   ]
  },
  {
   "cell_type": "code",
   "execution_count": null,
   "metadata": {},
   "outputs": [],
   "source": [
    "def SumMultiplier(arr):\n",
    "\n",
    "  total = sum(arr)\n",
    "  for i in range(len(arr)):\n",
    "    product_list = [arr[j] * arr[i] for j in range(len(arr)) if j != i]\n",
    "    if any(product > 2 * total for product in product_list):\n",
    "      return 'true'\n",
    "  return 'false'\n",
    "\n",
    "\n",
    "# keep this function call here \n",
    "print(SumMultiplier(input()))\n",
    "# print(SumMultiplier([2, 2, 2, 2, 4, 1]))\n",
    "# print(SumMultiplier([1, 1, 2, 10, 3, 1, 12]))"
   ]
  },
  {
   "cell_type": "code",
   "execution_count": 5,
   "metadata": {},
   "outputs": [
    {
     "name": "stdout",
     "output_type": "stream",
     "text": [
      "[False, False, False, False, False, False]\n",
      "[False, False, False, False, False, False, False, False, False, False, False, False, False, False, False, False, False, False]\n",
      "[False, False, False, False, False, False, False, False, False, False, False, False, False, False, False, False, False, False, False, False, False, False, False, False, False, False, False, False, False, False, False, False, False, False, False, False]\n",
      "[False, False, False, False, False, False, False, False, False, False, False, False, False, False, False, False, False, False, False, False, False, False, False, False, False, False, False, False, False, False, False, False, False, False, False, False, False, False, False, False, False, False, False, False, False, False, False, False, False, False, False, False, False, False, False, False, False, False, False, True]\n",
      "true\n"
     ]
    }
   ],
   "source": [
    "\n",
    "def SumMultiplier(arr):\n",
    "  multiply = []\n",
    "  result = []\n",
    "\n",
    "  total = sum(arr)\n",
    "  for i in range(len(arr)):\n",
    "    for j in range(len(arr)):\n",
    "      if j != i:\n",
    "        multiply.append((arr[j]*arr[i]))\n",
    "        \n",
    "    # if any(multi > 2 * total for multi in multiply):\n",
    "    for multi in multiply:\n",
    "      result.append(multi>2*total)\n",
    "    print(result)    \n",
    "    if any(result):  \n",
    "      return 'true'\n",
    "  return 'false'\n",
    "\n",
    "\n",
    "# keep this function call here \n",
    "# print(SumMultiplier(input()))\n",
    "# print(SumMultiplier([2, 2, 2, 2, 4, 1]))\n",
    "print(SumMultiplier([1, 1, 2, 10, 3, 1, 12]))"
   ]
  },
  {
   "cell_type": "code",
   "execution_count": 25,
   "metadata": {},
   "outputs": [
    {
     "name": "stdout",
     "output_type": "stream",
     "text": [
      "Counter({'l': 2, 'H': 1, 'e': 1, 'o': 1})\n",
      "H\n",
      "Counter({'p': 2, 'a': 1, 'l': 1, 'e': 1})\n",
      "a\n",
      "Counter({'p': 1, 'i': 1, 'e': 1})\n",
      "p\n"
     ]
    }
   ],
   "source": [
    "from collections import Counter\n",
    "a = \"Hello apple pie\"\n",
    "for i in a.split():\n",
    "    count = Counter(i)\n",
    "    print(count)\n",
    "    double  = list(count)[0]\n",
    "    print(double)"
   ]
  },
  {
   "cell_type": "code",
   "execution_count": 17,
   "metadata": {},
   "outputs": [
    {
     "data": {
      "text/plain": [
       "2"
      ]
     },
     "execution_count": 17,
     "metadata": {},
     "output_type": "execute_result"
    }
   ],
   "source": [
    "b = {'l': 2, 'H': 1, 'e': 1, 'o': 1}\n",
    "double  = list(b.keys())[0]\n",
    "b[double]"
   ]
  },
  {
   "cell_type": "code",
   "execution_count": 33,
   "metadata": {},
   "outputs": [
    {
     "name": "stdout",
     "output_type": "stream",
     "text": [
      "['hello', 'apple', 'pie']\n"
     ]
    },
    {
     "data": {
      "text/plain": [
       "'hello'"
      ]
     },
     "execution_count": 33,
     "metadata": {},
     "output_type": "execute_result"
    }
   ],
   "source": [
    "import re\n",
    "\n",
    "def letter_count_i(str):\n",
    "   \"\"\"Finds the word with the most repeated letters, ignoring case and non-letter characters.\n",
    "\n",
    "   Args:\n",
    "       str: The input string.\n",
    "\n",
    "   Returns:\n",
    "       The word with the most repeated letters, or -1 if no word has more than one repeated letter.\n",
    "   \"\"\"\n",
    "\n",
    "   max_count = 1\n",
    "   max_word = None\n",
    "\n",
    "   # Clean and split the string into words\n",
    "   words = re.sub(r\"[^a-zA-Z ]\", \"\", str.lower()).split()\n",
    "   print(words)\n",
    "\n",
    "   for word in words:\n",
    "       letter_counts = {}  # Track letter counts for the current word\n",
    "       for letter in word:\n",
    "           letter_counts[letter] = letter_counts.get(letter, 0) + 1\n",
    "\n",
    "       max_letter_count = max(letter_counts.values())\n",
    "       if max_letter_count > max_count:\n",
    "           max_count = max_letter_count\n",
    "           max_word = word\n",
    "\n",
    "   return max_word if max_count > 1 else -1\n",
    "\n",
    "# letter_count_i(\"Hel boy girl\")   \n",
    "letter_count_i(\"Hello apple pie\")\n"
   ]
  },
  {
   "cell_type": "code",
   "execution_count": 35,
   "metadata": {},
   "outputs": [
    {
     "name": "stdout",
     "output_type": "stream",
     "text": [
      "['Hello', 'apple', 'pie']\n"
     ]
    },
    {
     "data": {
      "text/plain": [
       "'Hello'"
      ]
     },
     "execution_count": 35,
     "metadata": {},
     "output_type": "execute_result"
    }
   ],
   "source": [
    "from collections import Counter\n",
    "\n",
    "\n",
    "def letter_count_i(str):\n",
    "\n",
    "   max_count = 1\n",
    "   max_word = None\n",
    "\n",
    "   # Clean and split the string into words\n",
    "   words = str.split()\n",
    "   print(words)\n",
    "\n",
    "   for word in words:\n",
    "       letter_counts = {}  # Track letter counts for the current word\n",
    "       for letter in word:\n",
    "           letter_counts[letter] = letter_counts.get(letter, 0) + 1\n",
    "\n",
    "       max_letter_count = max(letter_counts.values())\n",
    "       if max_letter_count > max_count:\n",
    "           max_count = max_letter_count\n",
    "           max_word = word\n",
    "\n",
    "   return max_word if max_count > 1 else -1\n",
    "\n",
    "# letter_count_i(\"Hel boy girl\")   \n",
    "letter_count_i(\"Hello apple pie\")\n"
   ]
  },
  {
   "cell_type": "code",
   "execution_count": 36,
   "metadata": {},
   "outputs": [
    {
     "name": "stdout",
     "output_type": "stream",
     "text": [
      "['Hello', 'apple', 'pie']\n",
      "['hello', 'apple', 'pie']\n"
     ]
    },
    {
     "data": {
      "text/plain": [
       "'hello'"
      ]
     },
     "execution_count": 36,
     "metadata": {},
     "output_type": "execute_result"
    }
   ],
   "source": [
    "from collections import Counter\n",
    "\n",
    "\n",
    "def letter_count_i(str):\n",
    "\n",
    "   max_count = 1\n",
    "   max_word = None\n",
    "\n",
    "   # Clean and split the string into words\n",
    "   words = str.split()\n",
    "   print(words)\n",
    "   words = [w.lower() for w in words]\n",
    "   print(words)\n",
    "\n",
    "\n",
    "   for word in words:\n",
    "       letter_counts = {}  # Track letter counts for the current word\n",
    "       for letter in word:\n",
    "           letter_counts[letter] = letter_counts.get(letter, 0) + 1\n",
    "\n",
    "       max_letter_count = max(letter_counts.values())\n",
    "       if max_letter_count > max_count:\n",
    "           max_count = max_letter_count\n",
    "           max_word = word\n",
    "\n",
    "   return max_word if max_count > 1 else -1\n",
    "\n",
    "# letter_count_i(\"Hel boy girl\")   \n",
    "letter_count_i(\"Hello apple pie\")\n"
   ]
  },
  {
   "cell_type": "code",
   "execution_count": 37,
   "metadata": {},
   "outputs": [
    {
     "data": {
      "text/plain": [
       "Counter({'a': 4, 'b': 4, 'c': 2})"
      ]
     },
     "execution_count": 37,
     "metadata": {},
     "output_type": "execute_result"
    }
   ],
   "source": [
    "Counter(\"abcababcab\")"
   ]
  },
  {
   "cell_type": "code",
   "execution_count": null,
   "metadata": {},
   "outputs": [
    {
     "name": "stdout",
     "output_type": "stream",
     "text": [
      "['Hello', 'apple', 'pie']\n"
     ]
    },
    {
     "data": {
      "text/plain": [
       "'Hello'"
      ]
     },
     "metadata": {},
     "output_type": "display_data"
    }
   ],
   "source": [
    "from collections import Counter\n",
    "\n",
    "\n",
    "def letter_count_i(str):\n",
    "\n",
    "   max_count = 1\n",
    "   max_word = None\n",
    "\n",
    "   # Clean and split the string into words\n",
    "   words = str.split()\n",
    "   print(words)\n",
    "\n",
    "   for word in words:\n",
    "       letter_counts = {}  # Track letter counts for the current word\n",
    "       for letter in word:\n",
    "           letter_counts[letter] = letter_counts.get(letter, 0) + 1\n",
    "\n",
    "       max_letter_count = max(letter_counts.values())\n",
    "       if max_letter_count > max_count:\n",
    "           max_count = max_letter_count\n",
    "           max_word = word\n",
    "\n",
    "   return max_word if max_count > 1 else -1\n",
    "\n",
    "# letter_count_i(\"Hel boy girl\")   \n",
    "letter_count_i(\"Hello apple pie\")\n"
   ]
  },
  {
   "cell_type": "code",
   "execution_count": 40,
   "metadata": {},
   "outputs": [
    {
     "name": "stdout",
     "output_type": "stream",
     "text": [
      "abc\n"
     ]
    }
   ],
   "source": [
    "def find_same_letters(input_string):\n",
    "  \"\"\"\n",
    "  This function finds the set of letters which appear multiple times in the input string.\n",
    "\n",
    "  Args:\n",
    "      input_string: The input string to be analyzed.\n",
    "\n",
    "  Returns:\n",
    "      A string containing only the letters that appear multiple times in the input string,\n",
    "      preserving their order. If no letters appear multiple times, an empty string is returned.\n",
    "  \"\"\"\n",
    "\n",
    "  # Create a dictionary to store counts of each letter.\n",
    "  letter_counts = {}\n",
    "  for char in input_string:\n",
    "    letter_counts[char] = letter_counts.get(char, 0) + 1\n",
    "\n",
    "  # Filter the input string to include only characters that appear multiple times.\n",
    "  result = ''.join(char for char, count in letter_counts.items() if count > 1)\n",
    "  return result\n",
    "\n",
    "# Example usage\n",
    "input_string = \"abcababcab\"\n",
    "same_letters = find_same_letters(input_string)\n",
    "print(same_letters)  # Output: abcab\n"
   ]
  },
  {
   "cell_type": "code",
   "execution_count": 6,
   "metadata": {},
   "outputs": [
    {
     "name": "stdout",
     "output_type": "stream",
     "text": [
      "abcab\n",
      "-1\n",
      "xyzv\n",
      "abcab\n",
      "-1\n",
      "xyzab\n"
     ]
    }
   ],
   "source": [
    "def StringPeriods(strParam):\n",
    "    \"\"\"Finds the shortest repeating pattern in a string or returns -1 if no pattern exists.\n",
    "\n",
    "    Args:\n",
    "        strParam: The input string to analyze.\n",
    "\n",
    "    Returns:\n",
    "        The shortest repeating pattern if found, otherwise -1.\n",
    "    \"\"\"\n",
    "\n",
    "    for i in range(len(strParam) // 2, 0, -1):  # Start from half the length and move towards shorter lengths\n",
    "        pattern = strParam[:i]\n",
    "        if pattern * (len(strParam) // len(pattern)) == strParam:\n",
    "            return pattern\n",
    "\n",
    "    return -1  # No repeating pattern found\n",
    "\n",
    "# Test cases\n",
    "input1 = \"abcababcab\"\n",
    "result1 = StringPeriods(input1)\n",
    "print(result1)  # Output: abcab\n",
    "\n",
    "input2 = \"abcabxabcab\"\n",
    "result2 = StringPeriods(input2)\n",
    "print(result2)  # Output: -1\n",
    "\n",
    "input3 = \"xyzvxyzv\"\n",
    "result3 = StringPeriods(input3)\n",
    "print(result3) \n",
    "\n",
    "print(StringPeriods(\"abcababcab\"))\n",
    "print(StringPeriods(\"abcabxabcab\"))\n",
    "print(StringPeriods(\"xyzabxyzab\"))\n",
    "\n",
    "\n"
   ]
  },
  {
   "cell_type": "code",
   "execution_count": 8,
   "metadata": {},
   "outputs": [
    {
     "name": "stdout",
     "output_type": "stream",
     "text": [
      "abcab\n",
      "-1\n",
      "xyzab\n"
     ]
    }
   ],
   "source": [
    "def StringPeriods(strParam):\n",
    "    for i in range(len(strParam) // 2, 0, -1):\n",
    "        pattern = strParam[:i]\n",
    "        if pattern * (len(strParam) // len(pattern)) == strParam:\n",
    "            return pattern\n",
    "    return -1\n",
    "# keep this function call here \n",
    "# print(StringPeriods(input()))\n",
    "print(StringPeriods(\"abcababcab\"))\n",
    "print(StringPeriods(\"abcabxabcab\"))\n",
    "print(StringPeriods(\"xyzabxyzab\"))"
   ]
  },
  {
   "cell_type": "code",
   "execution_count": 3,
   "metadata": {},
   "outputs": [
    {
     "name": "stdout",
     "output_type": "stream",
     "text": [
      "-1\n",
      "-1\n",
      "-1\n"
     ]
    }
   ],
   "source": [
    "def StringPeriods(strParam):\n",
    "  for i in range(len(strParam) // 2, 0, -1):\n",
    "    pattern = strParam[:i]\n",
    "    if pattern * (len(strParam) // len(pattern) == strParam):\n",
    "      return pattern\n",
    "\n",
    "  return  -1\n",
    "\n",
    "# keep this function call here \n",
    "# print(StringPeriods(input()))\n",
    "print(StringPeriods(\"abcababcab\"))\n",
    "print(StringPeriods(\"abcabxabcab\"))\n",
    "print(StringPeriods(\"xyzabxyzab\"))"
   ]
  },
  {
   "cell_type": "code",
   "execution_count": 14,
   "metadata": {},
   "outputs": [
    {
     "name": "stdout",
     "output_type": "stream",
     "text": [
      "2.55\n"
     ]
    }
   ],
   "source": [
    "xs = [5.1,3.5,1.4,0.2]\n",
    "import statistics\n",
    "import numpy as np\n",
    "# statistics.mean(xs)\n",
    "print(np.mean(xs))"
   ]
  },
  {
   "cell_type": "code",
   "execution_count": 12,
   "metadata": {},
   "outputs": [
    {
     "name": "stdout",
     "output_type": "stream",
     "text": [
      "None\n",
      "None\n",
      "None\n"
     ]
    }
   ],
   "source": [
    "import numpy as np\n",
    "# import torch\n",
    "\n",
    "# implement your solution here\n",
    "def get_grouped_mean():\n",
    "  return [None, None, None]\n",
    "  \n",
    "# get data\n",
    "url = 'https://archive.ics.uci.edu/ml/machine-learning-databases/iris/iris.data'\n",
    "iris_data = np.genfromtxt(url, delimiter=',', dtype='object')\n",
    "names = ('sepallength', 'sepalwidth', 'petallength', 'petalwidth', 'species')\n",
    "\n",
    "# calculate grouped mean and print\n",
    "grouped_mean = get_grouped_mean()\n",
    "for i in grouped_mean:\n",
    "  print(i)"
   ]
  },
  {
   "cell_type": "code",
   "execution_count": 15,
   "metadata": {},
   "outputs": [
    {
     "name": "stdout",
     "output_type": "stream",
     "text": [
      "[[b'Iris-setosa', 1.1393333333333333], [b'Iris-versicolor', 0.9233333333333333], [b'Iris-virginica', 0.9913333333333334]]\n"
     ]
    }
   ],
   "source": [
    "ans = []\n",
    "for specie in np.unique(iris_data[:, -1]):\n",
    "  mean_sepalwidth = np.mean(np.where(iris_data[:,-1] == specie, iris_data[:,1].astype(float),0))\n",
    "#   print(speie, mean_sepalwidth)\n",
    "  ans.append([specie, mean_sepalwidth])\n",
    "\n",
    "print(ans)  "
   ]
  },
  {
   "cell_type": "code",
   "execution_count": 17,
   "metadata": {},
   "outputs": [
    {
     "name": "stdout",
     "output_type": "stream",
     "text": [
      "[b'Iris-setosa', 1.1393333333333333]\n",
      "[b'Iris-versicolor', 0.9233333333333333]\n",
      "[b'Iris-virginica', 0.9913333333333334]\n"
     ]
    }
   ],
   "source": [
    "def a():\n",
    "    ans = []\n",
    "    for specie in np.unique(iris_data[:, -1]):\n",
    "        mean_sepalwidth = np.mean(np.where(iris_data[:,-1] == specie, iris_data[:,1].astype(float),0))\n",
    "        #   print(speie, mean_sepalwidth)\n",
    "        ans.append([specie, mean_sepalwidth])\n",
    "    return ans\n",
    "\n",
    "for i in a():\n",
    "    print(i)"
   ]
  },
  {
   "cell_type": "code",
   "execution_count": 22,
   "metadata": {},
   "outputs": [
    {
     "data": {
      "text/plain": [
       "(array([ 0,  1,  2,  3,  4,  5,  6,  7,  8,  9, 10, 11, 12, 13, 14, 15, 16,\n",
       "        17, 18, 19, 20, 21, 22, 23, 24, 25, 26, 27, 28, 29, 30, 31, 32, 33,\n",
       "        34, 35, 36, 37, 38, 39, 40, 41, 42, 43, 44, 45, 46, 47, 48, 49],\n",
       "       dtype=int64),)"
      ]
     },
     "execution_count": 22,
     "metadata": {},
     "output_type": "execute_result"
    }
   ],
   "source": [
    "setosa = np.where(iris_data[:,-1]==np.unique(iris_data[:,-1])[0])\n",
    "setosa"
   ]
  },
  {
   "cell_type": "code",
   "execution_count": 30,
   "metadata": {},
   "outputs": [
    {
     "data": {
      "text/plain": [
       "3.418"
      ]
     },
     "execution_count": 30,
     "metadata": {},
     "output_type": "execute_result"
    }
   ],
   "source": [
    "iris_data[setosa,1].astype('float').mean()"
   ]
  },
  {
   "cell_type": "code",
   "execution_count": 31,
   "metadata": {},
   "outputs": [
    {
     "data": {
      "text/plain": [
       "3.418"
      ]
     },
     "execution_count": 31,
     "metadata": {},
     "output_type": "execute_result"
    }
   ],
   "source": [
    "iris_data[np.where(iris_data[:,-1]==np.unique(iris_data[:,-1])[0]),1].astype('float').mean()"
   ]
  },
  {
   "cell_type": "code",
   "execution_count": null,
   "metadata": {},
   "outputs": [
    {
     "data": {
      "text/plain": [
       "3.418"
      ]
     },
     "metadata": {},
     "output_type": "display_data"
    }
   ],
   "source": [
    "iris_data[np.where(iris_data[:,-1]==spicie),1].astype('float').mean()********"
   ]
  },
  {
   "cell_type": "code",
   "execution_count": 89,
   "metadata": {},
   "outputs": [
    {
     "name": "stdout",
     "output_type": "stream",
     "text": [
      "b'Iris-setosa' 0.9913333333333334\n",
      "(b'Iris-virginica', 0.9913333333333334)\n"
     ]
    }
   ],
   "source": [
    "import numpy as np\n",
    "# import torch\n",
    "\n",
    "# implement your solution here\n",
    "ans = []\n",
    "def get_grouped_mean():\n",
    "  for speie in np.unique(iris_data[:, -1]):\n",
    "    mean_sepalwidth = np.mean(np.where(iris_data[:,-1] == specie, iris_data[:,1].astype(float),0))\n",
    "    print(speie, mean_sepalwidth)\n",
    "    ans.append((specie, mean_sepalwidth))\n",
    "    return ans\n",
    "  \n",
    "# get data\n",
    "url = 'https://archive.ics.uci.edu/ml/machine-learning-databases/iris/iris.data'\n",
    "iris_data = np.genfromtxt(url, delimiter=',', dtype='object')\n",
    "names = ('sepallength', 'sepalwidth', 'petallength', 'petalwidth', 'species')\n",
    "\n",
    "# calculate grouped mean and print\n",
    "grouped_mean = get_grouped_mean()\n",
    "for i in grouped_mean:\n",
    "  print(i)"
   ]
  },
  {
   "cell_type": "code",
   "execution_count": 83,
   "metadata": {},
   "outputs": [
    {
     "data": {
      "text/plain": [
       "[(b'Iris-virginica', 0.9913333333333334)]"
      ]
     },
     "execution_count": 83,
     "metadata": {},
     "output_type": "execute_result"
    }
   ],
   "source": [
    "grouped_mean"
   ]
  },
  {
   "cell_type": "code",
   "execution_count": 72,
   "metadata": {},
   "outputs": [
    {
     "name": "stdout",
     "output_type": "stream",
     "text": [
      "b'Iris-setosa' 1.1393333333333333\n",
      "b'Iris-versicolor' 0.9233333333333333\n",
      "b'Iris-virginica' 0.9913333333333334\n"
     ]
    }
   ],
   "source": [
    "for specie in species:\n",
    "    mean_sepalwidth = np.mean(np.where(iris_data[:,4] == specie, iris_data[:,1].astype(float), 0)) \n",
    "    print(specie, mean_sepalwidth)"
   ]
  },
  {
   "cell_type": "code",
   "execution_count": 60,
   "metadata": {},
   "outputs": [
    {
     "name": "stdout",
     "output_type": "stream",
     "text": [
      "Worker ID: 25302.0, Mean Latitude: 32.14623107752006, Mean Longitude: -94.3612955952352\n",
      "Worker ID: 25305.0, Mean Latitude: 32.1195644108534, Mean Longitude: -94.3612955952352\n",
      "Worker ID: 25326.0, Mean Latitude: 32.12289774418673, Mean Longitude: -94.3612955952352\n",
      "Worker ID: 25341.0, Mean Latitude: 32.172897744186734, Mean Longitude: -94.3612955952352\n",
      "Worker ID: 25376.0, Mean Latitude: 32.15289774418673, Mean Longitude: -94.3612955952352\n"
     ]
    }
   ],
   "source": [
    "import numpy as np\n",
    "\n",
    "# Define the sample NumPy ndarray with worker IDs, latitude, and longitude\n",
    "a = [[25302, 32.1335981, -94.3958452],\n",
    "     [25302, 32.1450951325602, -94.3580415857056],\n",
    "     [25302, 32.16, -94.33],\n",
    "     [25305, 32.1335981, -94.3958452],\n",
    "     [25305, 32.1150951325602, -94.3580415857056],\n",
    "     [25305, 32.11, -94.33],\n",
    "     [25326, 32.1235981, -94.3958452],\n",
    "     [25326, 32.1250951325602, -94.3580415857056],\n",
    "     [25326, 32.12, -94.33],\n",
    "     [25341, 32.1735981, -94.3958452],\n",
    "     [25341, 32.1750951325602, -94.3580415857056],\n",
    "     [25341, 32.17, -94.33],\n",
    "     [25376, 32.1535981, -94.3958452],\n",
    "     [25376, 32.1550951325602, -94.3580415857056],\n",
    "     [25376, 32.15, -94.33]]\n",
    "\n",
    "# Convert the list to a NumPy array\n",
    "ndarray = np.array(a)\n",
    "\n",
    "# Calculate the mean latitude and longitude for each worker ID\n",
    "unique_worker_ids = np.unique(ndarray[:, 0])\n",
    "for worker_id in unique_worker_ids:\n",
    "    worker_data = ndarray[ndarray[:, 0] == worker_id][:, 1:]\n",
    "    mean_latitude = np.mean(worker_data[:, 0])\n",
    "    mean_longitude = np.mean(worker_data[:, 1])\n",
    "    print(f\"Worker ID: {worker_id}, Mean Latitude: {mean_latitude}, Mean Longitude: {mean_longitude}\")"
   ]
  },
  {
   "cell_type": "code",
   "execution_count": 47,
   "metadata": {},
   "outputs": [],
   "source": [
    "sepalwidth = iris_data[:,1]\n",
    "species = iris_data[:,4]"
   ]
  },
  {
   "cell_type": "code",
   "execution_count": 52,
   "metadata": {},
   "outputs": [
    {
     "name": "stdout",
     "output_type": "stream",
     "text": [
      "<class 'numpy.ndarray'> <class 'numpy.ndarray'>\n"
     ]
    }
   ],
   "source": [
    "print(type(species), type(sepalwidth))"
   ]
  },
  {
   "cell_type": "code",
   "execution_count": 56,
   "metadata": {},
   "outputs": [],
   "source": [
    "data = np.vstack((species, sepalwidth))"
   ]
  },
  {
   "cell_type": "code",
   "execution_count": 58,
   "metadata": {},
   "outputs": [
    {
     "data": {
      "text/plain": [
       "(150, 2)"
      ]
     },
     "execution_count": 58,
     "metadata": {},
     "output_type": "execute_result"
    }
   ],
   "source": [
    "data.T.shape"
   ]
  },
  {
   "cell_type": "code",
   "execution_count": null,
   "metadata": {},
   "outputs": [
    {
     "name": "stdout",
     "output_type": "stream",
     "text": [
      "['Hello', 'apple', 'pie']\n"
     ]
    },
    {
     "data": {
      "text/plain": [
       "'Hello'"
      ]
     },
     "metadata": {},
     "output_type": "display_data"
    }
   ],
   "source": [
    "from collections import Counter\n",
    "\n",
    "\n",
    "def letter_count_i(str):\n",
    "\n",
    "   max_count = 1\n",
    "   max_word = None\n",
    "\n",
    "   # Clean and split the string into words\n",
    "   words = str.split()\n",
    "   print(words)\n",
    "\n",
    "   for word in words:\n",
    "       letter_counts = {}  # Track letter counts for the current word\n",
    "       for letter in word:\n",
    "           letter_counts[letter] = letter_counts.get(letter, 0) + 1\n",
    "\n",
    "       max_letter_count = max(letter_counts.values())\n",
    "       if max_letter_count > max_count:\n",
    "           max_count = max_letter_count\n",
    "           max_word = word\n",
    "\n",
    "   return max_word if max_count > 1 else -1\n",
    "\n",
    "# letter_count_i(\"Hel boy girl\")   \n",
    "letter_count_i(\"Hello apple pie\")\n"
   ]
  },
  {
   "cell_type": "code",
   "execution_count": null,
   "metadata": {},
   "outputs": [
    {
     "name": "stdout",
     "output_type": "stream",
     "text": [
      "['Hello', 'apple', 'pie']\n"
     ]
    },
    {
     "data": {
      "text/plain": [
       "'Hello'"
      ]
     },
     "metadata": {},
     "output_type": "display_data"
    }
   ],
   "source": [
    "from collections import Counter\n",
    "\n",
    "\n",
    "def letter_count_i(str):\n",
    "\n",
    "   max_count = 1\n",
    "   max_word = None\n",
    "\n",
    "   # Clean and split the string into words\n",
    "   words = str.split()\n",
    "   print(words)\n",
    "\n",
    "   for word in words:\n",
    "       letter_counts = {}  # Track letter counts for the current word\n",
    "       for letter in word:\n",
    "           letter_counts[letter] = letter_counts.get(letter, 0) + 1\n",
    "\n",
    "       max_letter_count = max(letter_counts.values())\n",
    "       if max_letter_count > max_count:\n",
    "           max_count = max_letter_count\n",
    "           max_word = word\n",
    "\n",
    "   return max_word if max_count > 1 else -1\n",
    "\n",
    "# letter_count_i(\"Hel boy girl\")   \n",
    "letter_count_i(\"Hello apple pie\")\n"
   ]
  },
  {
   "cell_type": "code",
   "execution_count": 46,
   "metadata": {},
   "outputs": [
    {
     "name": "stdout",
     "output_type": "stream",
     "text": [
      "1st Input array : \n",
      " [1 2 3]\n",
      "2nd Input array : \n",
      " [4 5 6]\n",
      "Output horizontally stacked array:\n",
      "  [[1 2 3]\n",
      " [4 5 6]]\n"
     ]
    }
   ],
   "source": [
    "# Python program explaining \n",
    "# hstack() function \n",
    "\n",
    "import numpy as geek \n",
    "\n",
    "# input array \n",
    "in_arr1 = geek.array([ 1, 2, 3] ) \n",
    "print (\"1st Input array : \\n\", in_arr1) \n",
    "\n",
    "in_arr2 = geek.array([ 4, 5, 6] ) \n",
    "print (\"2nd Input array : \\n\", in_arr2) \n",
    "\n",
    "# Stacking the two arrays horizontally \n",
    "out_arr = geek.vstack((in_arr1, in_arr2)) \n",
    "print (\"Output horizontally stacked array:\\n \", out_arr) \n"
   ]
  },
  {
   "cell_type": "code",
   "execution_count": 36,
   "metadata": {},
   "outputs": [
    {
     "ename": "TypeError",
     "evalue": "only integer scalar arrays can be converted to a scalar index",
     "output_type": "error",
     "traceback": [
      "\u001b[1;31m---------------------------------------------------------------------------\u001b[0m",
      "\u001b[1;31mTypeError\u001b[0m                                 Traceback (most recent call last)",
      "\u001b[1;32m<ipython-input-36-e7c4b6e2a862>\u001b[0m in \u001b[0;36m<module>\u001b[1;34m\u001b[0m\n\u001b[1;32m----> 1\u001b[1;33m \u001b[0mnp\u001b[0m\u001b[1;33m.\u001b[0m\u001b[0mconcatenate\u001b[0m\u001b[1;33m(\u001b[0m\u001b[1;33m(\u001b[0m\u001b[0mnp\u001b[0m\u001b[1;33m.\u001b[0m\u001b[0marray\u001b[0m\u001b[1;33m(\u001b[0m\u001b[0mnames\u001b[0m\u001b[1;33m)\u001b[0m\u001b[1;33m)\u001b[0m\u001b[1;33m,\u001b[0m \u001b[0miris_data\u001b[0m\u001b[1;33m)\u001b[0m\u001b[1;33m\u001b[0m\u001b[1;33m\u001b[0m\u001b[0m\n\u001b[0m",
      "\u001b[1;32m<__array_function__ internals>\u001b[0m in \u001b[0;36mconcatenate\u001b[1;34m(*args, **kwargs)\u001b[0m\n",
      "\u001b[1;31mTypeError\u001b[0m: only integer scalar arrays can be converted to a scalar index"
     ]
    }
   ],
   "source": [
    "np.concatenate((np.array(names)), iris_data)"
   ]
  },
  {
   "cell_type": "code",
   "execution_count": 25,
   "metadata": {},
   "outputs": [
    {
     "ename": "TypeError",
     "evalue": "_column_stack_dispatcher() takes 1 positional argument but 2 were given",
     "output_type": "error",
     "traceback": [
      "\u001b[1;31m---------------------------------------------------------------------------\u001b[0m",
      "\u001b[1;31mTypeError\u001b[0m                                 Traceback (most recent call last)",
      "\u001b[1;32m<ipython-input-25-eb0c59901582>\u001b[0m in \u001b[0;36m<module>\u001b[1;34m\u001b[0m\n\u001b[1;32m----> 1\u001b[1;33m \u001b[0mnp\u001b[0m\u001b[1;33m.\u001b[0m\u001b[0mcolumn_stack\u001b[0m\u001b[1;33m(\u001b[0m\u001b[0mnames\u001b[0m\u001b[1;33m,\u001b[0m \u001b[0miris_data\u001b[0m\u001b[1;33m)\u001b[0m\u001b[1;33m\u001b[0m\u001b[1;33m\u001b[0m\u001b[0m\n\u001b[0m",
      "\u001b[1;32m<__array_function__ internals>\u001b[0m in \u001b[0;36mcolumn_stack\u001b[1;34m(*args, **kwargs)\u001b[0m\n",
      "\u001b[1;31mTypeError\u001b[0m: _column_stack_dispatcher() takes 1 positional argument but 2 were given"
     ]
    }
   ],
   "source": [
    "np.column_stack(names, iris_data)"
   ]
  },
  {
   "cell_type": "code",
   "execution_count": 23,
   "metadata": {},
   "outputs": [
    {
     "data": {
      "text/plain": [
       "array([[b'5.1', b'3.5', b'1.4', b'0.2', b'Iris-setosa'],\n",
       "       [b'4.9', b'3.0', b'1.4', b'0.2', b'Iris-setosa'],\n",
       "       [b'4.7', b'3.2', b'1.3', b'0.2', b'Iris-setosa'],\n",
       "       [b'4.6', b'3.1', b'1.5', b'0.2', b'Iris-setosa'],\n",
       "       [b'5.0', b'3.6', b'1.4', b'0.2', b'Iris-setosa'],\n",
       "       [b'5.4', b'3.9', b'1.7', b'0.4', b'Iris-setosa'],\n",
       "       [b'4.6', b'3.4', b'1.4', b'0.3', b'Iris-setosa'],\n",
       "       [b'5.0', b'3.4', b'1.5', b'0.2', b'Iris-setosa'],\n",
       "       [b'4.4', b'2.9', b'1.4', b'0.2', b'Iris-setosa'],\n",
       "       [b'4.9', b'3.1', b'1.5', b'0.1', b'Iris-setosa'],\n",
       "       [b'5.4', b'3.7', b'1.5', b'0.2', b'Iris-setosa'],\n",
       "       [b'4.8', b'3.4', b'1.6', b'0.2', b'Iris-setosa'],\n",
       "       [b'4.8', b'3.0', b'1.4', b'0.1', b'Iris-setosa'],\n",
       "       [b'4.3', b'3.0', b'1.1', b'0.1', b'Iris-setosa'],\n",
       "       [b'5.8', b'4.0', b'1.2', b'0.2', b'Iris-setosa'],\n",
       "       [b'5.7', b'4.4', b'1.5', b'0.4', b'Iris-setosa'],\n",
       "       [b'5.4', b'3.9', b'1.3', b'0.4', b'Iris-setosa'],\n",
       "       [b'5.1', b'3.5', b'1.4', b'0.3', b'Iris-setosa'],\n",
       "       [b'5.7', b'3.8', b'1.7', b'0.3', b'Iris-setosa'],\n",
       "       [b'5.1', b'3.8', b'1.5', b'0.3', b'Iris-setosa'],\n",
       "       [b'5.4', b'3.4', b'1.7', b'0.2', b'Iris-setosa'],\n",
       "       [b'5.1', b'3.7', b'1.5', b'0.4', b'Iris-setosa'],\n",
       "       [b'4.6', b'3.6', b'1.0', b'0.2', b'Iris-setosa'],\n",
       "       [b'5.1', b'3.3', b'1.7', b'0.5', b'Iris-setosa'],\n",
       "       [b'4.8', b'3.4', b'1.9', b'0.2', b'Iris-setosa'],\n",
       "       [b'5.0', b'3.0', b'1.6', b'0.2', b'Iris-setosa'],\n",
       "       [b'5.0', b'3.4', b'1.6', b'0.4', b'Iris-setosa'],\n",
       "       [b'5.2', b'3.5', b'1.5', b'0.2', b'Iris-setosa'],\n",
       "       [b'5.2', b'3.4', b'1.4', b'0.2', b'Iris-setosa'],\n",
       "       [b'4.7', b'3.2', b'1.6', b'0.2', b'Iris-setosa'],\n",
       "       [b'4.8', b'3.1', b'1.6', b'0.2', b'Iris-setosa'],\n",
       "       [b'5.4', b'3.4', b'1.5', b'0.4', b'Iris-setosa'],\n",
       "       [b'5.2', b'4.1', b'1.5', b'0.1', b'Iris-setosa'],\n",
       "       [b'5.5', b'4.2', b'1.4', b'0.2', b'Iris-setosa'],\n",
       "       [b'4.9', b'3.1', b'1.5', b'0.1', b'Iris-setosa'],\n",
       "       [b'5.0', b'3.2', b'1.2', b'0.2', b'Iris-setosa'],\n",
       "       [b'5.5', b'3.5', b'1.3', b'0.2', b'Iris-setosa'],\n",
       "       [b'4.9', b'3.1', b'1.5', b'0.1', b'Iris-setosa'],\n",
       "       [b'4.4', b'3.0', b'1.3', b'0.2', b'Iris-setosa'],\n",
       "       [b'5.1', b'3.4', b'1.5', b'0.2', b'Iris-setosa'],\n",
       "       [b'5.0', b'3.5', b'1.3', b'0.3', b'Iris-setosa'],\n",
       "       [b'4.5', b'2.3', b'1.3', b'0.3', b'Iris-setosa'],\n",
       "       [b'4.4', b'3.2', b'1.3', b'0.2', b'Iris-setosa'],\n",
       "       [b'5.0', b'3.5', b'1.6', b'0.6', b'Iris-setosa'],\n",
       "       [b'5.1', b'3.8', b'1.9', b'0.4', b'Iris-setosa'],\n",
       "       [b'4.8', b'3.0', b'1.4', b'0.3', b'Iris-setosa'],\n",
       "       [b'5.1', b'3.8', b'1.6', b'0.2', b'Iris-setosa'],\n",
       "       [b'4.6', b'3.2', b'1.4', b'0.2', b'Iris-setosa'],\n",
       "       [b'5.3', b'3.7', b'1.5', b'0.2', b'Iris-setosa'],\n",
       "       [b'5.0', b'3.3', b'1.4', b'0.2', b'Iris-setosa'],\n",
       "       [b'7.0', b'3.2', b'4.7', b'1.4', b'Iris-versicolor'],\n",
       "       [b'6.4', b'3.2', b'4.5', b'1.5', b'Iris-versicolor'],\n",
       "       [b'6.9', b'3.1', b'4.9', b'1.5', b'Iris-versicolor'],\n",
       "       [b'5.5', b'2.3', b'4.0', b'1.3', b'Iris-versicolor'],\n",
       "       [b'6.5', b'2.8', b'4.6', b'1.5', b'Iris-versicolor'],\n",
       "       [b'5.7', b'2.8', b'4.5', b'1.3', b'Iris-versicolor'],\n",
       "       [b'6.3', b'3.3', b'4.7', b'1.6', b'Iris-versicolor'],\n",
       "       [b'4.9', b'2.4', b'3.3', b'1.0', b'Iris-versicolor'],\n",
       "       [b'6.6', b'2.9', b'4.6', b'1.3', b'Iris-versicolor'],\n",
       "       [b'5.2', b'2.7', b'3.9', b'1.4', b'Iris-versicolor'],\n",
       "       [b'5.0', b'2.0', b'3.5', b'1.0', b'Iris-versicolor'],\n",
       "       [b'5.9', b'3.0', b'4.2', b'1.5', b'Iris-versicolor'],\n",
       "       [b'6.0', b'2.2', b'4.0', b'1.0', b'Iris-versicolor'],\n",
       "       [b'6.1', b'2.9', b'4.7', b'1.4', b'Iris-versicolor'],\n",
       "       [b'5.6', b'2.9', b'3.6', b'1.3', b'Iris-versicolor'],\n",
       "       [b'6.7', b'3.1', b'4.4', b'1.4', b'Iris-versicolor'],\n",
       "       [b'5.6', b'3.0', b'4.5', b'1.5', b'Iris-versicolor'],\n",
       "       [b'5.8', b'2.7', b'4.1', b'1.0', b'Iris-versicolor'],\n",
       "       [b'6.2', b'2.2', b'4.5', b'1.5', b'Iris-versicolor'],\n",
       "       [b'5.6', b'2.5', b'3.9', b'1.1', b'Iris-versicolor'],\n",
       "       [b'5.9', b'3.2', b'4.8', b'1.8', b'Iris-versicolor'],\n",
       "       [b'6.1', b'2.8', b'4.0', b'1.3', b'Iris-versicolor'],\n",
       "       [b'6.3', b'2.5', b'4.9', b'1.5', b'Iris-versicolor'],\n",
       "       [b'6.1', b'2.8', b'4.7', b'1.2', b'Iris-versicolor'],\n",
       "       [b'6.4', b'2.9', b'4.3', b'1.3', b'Iris-versicolor'],\n",
       "       [b'6.6', b'3.0', b'4.4', b'1.4', b'Iris-versicolor'],\n",
       "       [b'6.8', b'2.8', b'4.8', b'1.4', b'Iris-versicolor'],\n",
       "       [b'6.7', b'3.0', b'5.0', b'1.7', b'Iris-versicolor'],\n",
       "       [b'6.0', b'2.9', b'4.5', b'1.5', b'Iris-versicolor'],\n",
       "       [b'5.7', b'2.6', b'3.5', b'1.0', b'Iris-versicolor'],\n",
       "       [b'5.5', b'2.4', b'3.8', b'1.1', b'Iris-versicolor'],\n",
       "       [b'5.5', b'2.4', b'3.7', b'1.0', b'Iris-versicolor'],\n",
       "       [b'5.8', b'2.7', b'3.9', b'1.2', b'Iris-versicolor'],\n",
       "       [b'6.0', b'2.7', b'5.1', b'1.6', b'Iris-versicolor'],\n",
       "       [b'5.4', b'3.0', b'4.5', b'1.5', b'Iris-versicolor'],\n",
       "       [b'6.0', b'3.4', b'4.5', b'1.6', b'Iris-versicolor'],\n",
       "       [b'6.7', b'3.1', b'4.7', b'1.5', b'Iris-versicolor'],\n",
       "       [b'6.3', b'2.3', b'4.4', b'1.3', b'Iris-versicolor'],\n",
       "       [b'5.6', b'3.0', b'4.1', b'1.3', b'Iris-versicolor'],\n",
       "       [b'5.5', b'2.5', b'4.0', b'1.3', b'Iris-versicolor'],\n",
       "       [b'5.5', b'2.6', b'4.4', b'1.2', b'Iris-versicolor'],\n",
       "       [b'6.1', b'3.0', b'4.6', b'1.4', b'Iris-versicolor'],\n",
       "       [b'5.8', b'2.6', b'4.0', b'1.2', b'Iris-versicolor'],\n",
       "       [b'5.0', b'2.3', b'3.3', b'1.0', b'Iris-versicolor'],\n",
       "       [b'5.6', b'2.7', b'4.2', b'1.3', b'Iris-versicolor'],\n",
       "       [b'5.7', b'3.0', b'4.2', b'1.2', b'Iris-versicolor'],\n",
       "       [b'5.7', b'2.9', b'4.2', b'1.3', b'Iris-versicolor'],\n",
       "       [b'6.2', b'2.9', b'4.3', b'1.3', b'Iris-versicolor'],\n",
       "       [b'5.1', b'2.5', b'3.0', b'1.1', b'Iris-versicolor'],\n",
       "       [b'5.7', b'2.8', b'4.1', b'1.3', b'Iris-versicolor'],\n",
       "       [b'6.3', b'3.3', b'6.0', b'2.5', b'Iris-virginica'],\n",
       "       [b'5.8', b'2.7', b'5.1', b'1.9', b'Iris-virginica'],\n",
       "       [b'7.1', b'3.0', b'5.9', b'2.1', b'Iris-virginica'],\n",
       "       [b'6.3', b'2.9', b'5.6', b'1.8', b'Iris-virginica'],\n",
       "       [b'6.5', b'3.0', b'5.8', b'2.2', b'Iris-virginica'],\n",
       "       [b'7.6', b'3.0', b'6.6', b'2.1', b'Iris-virginica'],\n",
       "       [b'4.9', b'2.5', b'4.5', b'1.7', b'Iris-virginica'],\n",
       "       [b'7.3', b'2.9', b'6.3', b'1.8', b'Iris-virginica'],\n",
       "       [b'6.7', b'2.5', b'5.8', b'1.8', b'Iris-virginica'],\n",
       "       [b'7.2', b'3.6', b'6.1', b'2.5', b'Iris-virginica'],\n",
       "       [b'6.5', b'3.2', b'5.1', b'2.0', b'Iris-virginica'],\n",
       "       [b'6.4', b'2.7', b'5.3', b'1.9', b'Iris-virginica'],\n",
       "       [b'6.8', b'3.0', b'5.5', b'2.1', b'Iris-virginica'],\n",
       "       [b'5.7', b'2.5', b'5.0', b'2.0', b'Iris-virginica'],\n",
       "       [b'5.8', b'2.8', b'5.1', b'2.4', b'Iris-virginica'],\n",
       "       [b'6.4', b'3.2', b'5.3', b'2.3', b'Iris-virginica'],\n",
       "       [b'6.5', b'3.0', b'5.5', b'1.8', b'Iris-virginica'],\n",
       "       [b'7.7', b'3.8', b'6.7', b'2.2', b'Iris-virginica'],\n",
       "       [b'7.7', b'2.6', b'6.9', b'2.3', b'Iris-virginica'],\n",
       "       [b'6.0', b'2.2', b'5.0', b'1.5', b'Iris-virginica'],\n",
       "       [b'6.9', b'3.2', b'5.7', b'2.3', b'Iris-virginica'],\n",
       "       [b'5.6', b'2.8', b'4.9', b'2.0', b'Iris-virginica'],\n",
       "       [b'7.7', b'2.8', b'6.7', b'2.0', b'Iris-virginica'],\n",
       "       [b'6.3', b'2.7', b'4.9', b'1.8', b'Iris-virginica'],\n",
       "       [b'6.7', b'3.3', b'5.7', b'2.1', b'Iris-virginica'],\n",
       "       [b'7.2', b'3.2', b'6.0', b'1.8', b'Iris-virginica'],\n",
       "       [b'6.2', b'2.8', b'4.8', b'1.8', b'Iris-virginica'],\n",
       "       [b'6.1', b'3.0', b'4.9', b'1.8', b'Iris-virginica'],\n",
       "       [b'6.4', b'2.8', b'5.6', b'2.1', b'Iris-virginica'],\n",
       "       [b'7.2', b'3.0', b'5.8', b'1.6', b'Iris-virginica'],\n",
       "       [b'7.4', b'2.8', b'6.1', b'1.9', b'Iris-virginica'],\n",
       "       [b'7.9', b'3.8', b'6.4', b'2.0', b'Iris-virginica'],\n",
       "       [b'6.4', b'2.8', b'5.6', b'2.2', b'Iris-virginica'],\n",
       "       [b'6.3', b'2.8', b'5.1', b'1.5', b'Iris-virginica'],\n",
       "       [b'6.1', b'2.6', b'5.6', b'1.4', b'Iris-virginica'],\n",
       "       [b'7.7', b'3.0', b'6.1', b'2.3', b'Iris-virginica'],\n",
       "       [b'6.3', b'3.4', b'5.6', b'2.4', b'Iris-virginica'],\n",
       "       [b'6.4', b'3.1', b'5.5', b'1.8', b'Iris-virginica'],\n",
       "       [b'6.0', b'3.0', b'4.8', b'1.8', b'Iris-virginica'],\n",
       "       [b'6.9', b'3.1', b'5.4', b'2.1', b'Iris-virginica'],\n",
       "       [b'6.7', b'3.1', b'5.6', b'2.4', b'Iris-virginica'],\n",
       "       [b'6.9', b'3.1', b'5.1', b'2.3', b'Iris-virginica'],\n",
       "       [b'5.8', b'2.7', b'5.1', b'1.9', b'Iris-virginica'],\n",
       "       [b'6.8', b'3.2', b'5.9', b'2.3', b'Iris-virginica'],\n",
       "       [b'6.7', b'3.3', b'5.7', b'2.5', b'Iris-virginica'],\n",
       "       [b'6.7', b'3.0', b'5.2', b'2.3', b'Iris-virginica'],\n",
       "       [b'6.3', b'2.5', b'5.0', b'1.9', b'Iris-virginica'],\n",
       "       [b'6.5', b'3.0', b'5.2', b'2.0', b'Iris-virginica'],\n",
       "       [b'6.2', b'3.4', b'5.4', b'2.3', b'Iris-virginica'],\n",
       "       [b'5.9', b'3.0', b'5.1', b'1.8', b'Iris-virginica']], dtype=object)"
      ]
     },
     "execution_count": 23,
     "metadata": {},
     "output_type": "execute_result"
    }
   ],
   "source": [
    "iris_data"
   ]
  },
  {
   "cell_type": "code",
   "execution_count": 19,
   "metadata": {},
   "outputs": [
    {
     "data": {
      "text/plain": [
       "array([[b'5.1', b'3.5', b'1.4', b'0.2', b'Iris-setosa'],\n",
       "       [b'4.9', b'3.0', b'1.4', b'0.2', b'Iris-setosa'],\n",
       "       [b'4.7', b'3.2', b'1.3', b'0.2', b'Iris-setosa'],\n",
       "       [b'4.6', b'3.1', b'1.5', b'0.2', b'Iris-setosa'],\n",
       "       [b'5.0', b'3.6', b'1.4', b'0.2', b'Iris-setosa'],\n",
       "       [b'5.4', b'3.9', b'1.7', b'0.4', b'Iris-setosa'],\n",
       "       [b'4.6', b'3.4', b'1.4', b'0.3', b'Iris-setosa'],\n",
       "       [b'5.0', b'3.4', b'1.5', b'0.2', b'Iris-setosa'],\n",
       "       [b'4.4', b'2.9', b'1.4', b'0.2', b'Iris-setosa'],\n",
       "       [b'4.9', b'3.1', b'1.5', b'0.1', b'Iris-setosa'],\n",
       "       [b'5.4', b'3.7', b'1.5', b'0.2', b'Iris-setosa'],\n",
       "       [b'4.8', b'3.4', b'1.6', b'0.2', b'Iris-setosa'],\n",
       "       [b'4.8', b'3.0', b'1.4', b'0.1', b'Iris-setosa'],\n",
       "       [b'4.3', b'3.0', b'1.1', b'0.1', b'Iris-setosa'],\n",
       "       [b'5.8', b'4.0', b'1.2', b'0.2', b'Iris-setosa'],\n",
       "       [b'5.7', b'4.4', b'1.5', b'0.4', b'Iris-setosa'],\n",
       "       [b'5.4', b'3.9', b'1.3', b'0.4', b'Iris-setosa'],\n",
       "       [b'5.1', b'3.5', b'1.4', b'0.3', b'Iris-setosa'],\n",
       "       [b'5.7', b'3.8', b'1.7', b'0.3', b'Iris-setosa'],\n",
       "       [b'5.1', b'3.8', b'1.5', b'0.3', b'Iris-setosa'],\n",
       "       [b'5.4', b'3.4', b'1.7', b'0.2', b'Iris-setosa'],\n",
       "       [b'5.1', b'3.7', b'1.5', b'0.4', b'Iris-setosa'],\n",
       "       [b'4.6', b'3.6', b'1.0', b'0.2', b'Iris-setosa'],\n",
       "       [b'5.1', b'3.3', b'1.7', b'0.5', b'Iris-setosa'],\n",
       "       [b'4.8', b'3.4', b'1.9', b'0.2', b'Iris-setosa'],\n",
       "       [b'5.0', b'3.0', b'1.6', b'0.2', b'Iris-setosa'],\n",
       "       [b'5.0', b'3.4', b'1.6', b'0.4', b'Iris-setosa'],\n",
       "       [b'5.2', b'3.5', b'1.5', b'0.2', b'Iris-setosa'],\n",
       "       [b'5.2', b'3.4', b'1.4', b'0.2', b'Iris-setosa'],\n",
       "       [b'4.7', b'3.2', b'1.6', b'0.2', b'Iris-setosa'],\n",
       "       [b'4.8', b'3.1', b'1.6', b'0.2', b'Iris-setosa'],\n",
       "       [b'5.4', b'3.4', b'1.5', b'0.4', b'Iris-setosa'],\n",
       "       [b'5.2', b'4.1', b'1.5', b'0.1', b'Iris-setosa'],\n",
       "       [b'5.5', b'4.2', b'1.4', b'0.2', b'Iris-setosa'],\n",
       "       [b'4.9', b'3.1', b'1.5', b'0.1', b'Iris-setosa'],\n",
       "       [b'5.0', b'3.2', b'1.2', b'0.2', b'Iris-setosa'],\n",
       "       [b'5.5', b'3.5', b'1.3', b'0.2', b'Iris-setosa'],\n",
       "       [b'4.9', b'3.1', b'1.5', b'0.1', b'Iris-setosa'],\n",
       "       [b'4.4', b'3.0', b'1.3', b'0.2', b'Iris-setosa'],\n",
       "       [b'5.1', b'3.4', b'1.5', b'0.2', b'Iris-setosa'],\n",
       "       [b'5.0', b'3.5', b'1.3', b'0.3', b'Iris-setosa'],\n",
       "       [b'4.5', b'2.3', b'1.3', b'0.3', b'Iris-setosa'],\n",
       "       [b'4.4', b'3.2', b'1.3', b'0.2', b'Iris-setosa'],\n",
       "       [b'5.0', b'3.5', b'1.6', b'0.6', b'Iris-setosa'],\n",
       "       [b'5.1', b'3.8', b'1.9', b'0.4', b'Iris-setosa'],\n",
       "       [b'4.8', b'3.0', b'1.4', b'0.3', b'Iris-setosa'],\n",
       "       [b'5.1', b'3.8', b'1.6', b'0.2', b'Iris-setosa'],\n",
       "       [b'4.6', b'3.2', b'1.4', b'0.2', b'Iris-setosa'],\n",
       "       [b'5.3', b'3.7', b'1.5', b'0.2', b'Iris-setosa'],\n",
       "       [b'5.0', b'3.3', b'1.4', b'0.2', b'Iris-setosa'],\n",
       "       [b'7.0', b'3.2', b'4.7', b'1.4', b'Iris-versicolor'],\n",
       "       [b'6.4', b'3.2', b'4.5', b'1.5', b'Iris-versicolor'],\n",
       "       [b'6.9', b'3.1', b'4.9', b'1.5', b'Iris-versicolor'],\n",
       "       [b'5.5', b'2.3', b'4.0', b'1.3', b'Iris-versicolor'],\n",
       "       [b'6.5', b'2.8', b'4.6', b'1.5', b'Iris-versicolor'],\n",
       "       [b'5.7', b'2.8', b'4.5', b'1.3', b'Iris-versicolor'],\n",
       "       [b'6.3', b'3.3', b'4.7', b'1.6', b'Iris-versicolor'],\n",
       "       [b'4.9', b'2.4', b'3.3', b'1.0', b'Iris-versicolor'],\n",
       "       [b'6.6', b'2.9', b'4.6', b'1.3', b'Iris-versicolor'],\n",
       "       [b'5.2', b'2.7', b'3.9', b'1.4', b'Iris-versicolor'],\n",
       "       [b'5.0', b'2.0', b'3.5', b'1.0', b'Iris-versicolor'],\n",
       "       [b'5.9', b'3.0', b'4.2', b'1.5', b'Iris-versicolor'],\n",
       "       [b'6.0', b'2.2', b'4.0', b'1.0', b'Iris-versicolor'],\n",
       "       [b'6.1', b'2.9', b'4.7', b'1.4', b'Iris-versicolor'],\n",
       "       [b'5.6', b'2.9', b'3.6', b'1.3', b'Iris-versicolor'],\n",
       "       [b'6.7', b'3.1', b'4.4', b'1.4', b'Iris-versicolor'],\n",
       "       [b'5.6', b'3.0', b'4.5', b'1.5', b'Iris-versicolor'],\n",
       "       [b'5.8', b'2.7', b'4.1', b'1.0', b'Iris-versicolor'],\n",
       "       [b'6.2', b'2.2', b'4.5', b'1.5', b'Iris-versicolor'],\n",
       "       [b'5.6', b'2.5', b'3.9', b'1.1', b'Iris-versicolor'],\n",
       "       [b'5.9', b'3.2', b'4.8', b'1.8', b'Iris-versicolor'],\n",
       "       [b'6.1', b'2.8', b'4.0', b'1.3', b'Iris-versicolor'],\n",
       "       [b'6.3', b'2.5', b'4.9', b'1.5', b'Iris-versicolor'],\n",
       "       [b'6.1', b'2.8', b'4.7', b'1.2', b'Iris-versicolor'],\n",
       "       [b'6.4', b'2.9', b'4.3', b'1.3', b'Iris-versicolor'],\n",
       "       [b'6.6', b'3.0', b'4.4', b'1.4', b'Iris-versicolor'],\n",
       "       [b'6.8', b'2.8', b'4.8', b'1.4', b'Iris-versicolor'],\n",
       "       [b'6.7', b'3.0', b'5.0', b'1.7', b'Iris-versicolor'],\n",
       "       [b'6.0', b'2.9', b'4.5', b'1.5', b'Iris-versicolor'],\n",
       "       [b'5.7', b'2.6', b'3.5', b'1.0', b'Iris-versicolor'],\n",
       "       [b'5.5', b'2.4', b'3.8', b'1.1', b'Iris-versicolor'],\n",
       "       [b'5.5', b'2.4', b'3.7', b'1.0', b'Iris-versicolor'],\n",
       "       [b'5.8', b'2.7', b'3.9', b'1.2', b'Iris-versicolor'],\n",
       "       [b'6.0', b'2.7', b'5.1', b'1.6', b'Iris-versicolor'],\n",
       "       [b'5.4', b'3.0', b'4.5', b'1.5', b'Iris-versicolor'],\n",
       "       [b'6.0', b'3.4', b'4.5', b'1.6', b'Iris-versicolor'],\n",
       "       [b'6.7', b'3.1', b'4.7', b'1.5', b'Iris-versicolor'],\n",
       "       [b'6.3', b'2.3', b'4.4', b'1.3', b'Iris-versicolor'],\n",
       "       [b'5.6', b'3.0', b'4.1', b'1.3', b'Iris-versicolor'],\n",
       "       [b'5.5', b'2.5', b'4.0', b'1.3', b'Iris-versicolor'],\n",
       "       [b'5.5', b'2.6', b'4.4', b'1.2', b'Iris-versicolor'],\n",
       "       [b'6.1', b'3.0', b'4.6', b'1.4', b'Iris-versicolor'],\n",
       "       [b'5.8', b'2.6', b'4.0', b'1.2', b'Iris-versicolor'],\n",
       "       [b'5.0', b'2.3', b'3.3', b'1.0', b'Iris-versicolor'],\n",
       "       [b'5.6', b'2.7', b'4.2', b'1.3', b'Iris-versicolor'],\n",
       "       [b'5.7', b'3.0', b'4.2', b'1.2', b'Iris-versicolor'],\n",
       "       [b'5.7', b'2.9', b'4.2', b'1.3', b'Iris-versicolor'],\n",
       "       [b'6.2', b'2.9', b'4.3', b'1.3', b'Iris-versicolor'],\n",
       "       [b'5.1', b'2.5', b'3.0', b'1.1', b'Iris-versicolor'],\n",
       "       [b'5.7', b'2.8', b'4.1', b'1.3', b'Iris-versicolor'],\n",
       "       [b'6.3', b'3.3', b'6.0', b'2.5', b'Iris-virginica'],\n",
       "       [b'5.8', b'2.7', b'5.1', b'1.9', b'Iris-virginica'],\n",
       "       [b'7.1', b'3.0', b'5.9', b'2.1', b'Iris-virginica'],\n",
       "       [b'6.3', b'2.9', b'5.6', b'1.8', b'Iris-virginica'],\n",
       "       [b'6.5', b'3.0', b'5.8', b'2.2', b'Iris-virginica'],\n",
       "       [b'7.6', b'3.0', b'6.6', b'2.1', b'Iris-virginica'],\n",
       "       [b'4.9', b'2.5', b'4.5', b'1.7', b'Iris-virginica'],\n",
       "       [b'7.3', b'2.9', b'6.3', b'1.8', b'Iris-virginica'],\n",
       "       [b'6.7', b'2.5', b'5.8', b'1.8', b'Iris-virginica'],\n",
       "       [b'7.2', b'3.6', b'6.1', b'2.5', b'Iris-virginica'],\n",
       "       [b'6.5', b'3.2', b'5.1', b'2.0', b'Iris-virginica'],\n",
       "       [b'6.4', b'2.7', b'5.3', b'1.9', b'Iris-virginica'],\n",
       "       [b'6.8', b'3.0', b'5.5', b'2.1', b'Iris-virginica'],\n",
       "       [b'5.7', b'2.5', b'5.0', b'2.0', b'Iris-virginica'],\n",
       "       [b'5.8', b'2.8', b'5.1', b'2.4', b'Iris-virginica'],\n",
       "       [b'6.4', b'3.2', b'5.3', b'2.3', b'Iris-virginica'],\n",
       "       [b'6.5', b'3.0', b'5.5', b'1.8', b'Iris-virginica'],\n",
       "       [b'7.7', b'3.8', b'6.7', b'2.2', b'Iris-virginica'],\n",
       "       [b'7.7', b'2.6', b'6.9', b'2.3', b'Iris-virginica'],\n",
       "       [b'6.0', b'2.2', b'5.0', b'1.5', b'Iris-virginica'],\n",
       "       [b'6.9', b'3.2', b'5.7', b'2.3', b'Iris-virginica'],\n",
       "       [b'5.6', b'2.8', b'4.9', b'2.0', b'Iris-virginica'],\n",
       "       [b'7.7', b'2.8', b'6.7', b'2.0', b'Iris-virginica'],\n",
       "       [b'6.3', b'2.7', b'4.9', b'1.8', b'Iris-virginica'],\n",
       "       [b'6.7', b'3.3', b'5.7', b'2.1', b'Iris-virginica'],\n",
       "       [b'7.2', b'3.2', b'6.0', b'1.8', b'Iris-virginica'],\n",
       "       [b'6.2', b'2.8', b'4.8', b'1.8', b'Iris-virginica'],\n",
       "       [b'6.1', b'3.0', b'4.9', b'1.8', b'Iris-virginica'],\n",
       "       [b'6.4', b'2.8', b'5.6', b'2.1', b'Iris-virginica'],\n",
       "       [b'7.2', b'3.0', b'5.8', b'1.6', b'Iris-virginica'],\n",
       "       [b'7.4', b'2.8', b'6.1', b'1.9', b'Iris-virginica'],\n",
       "       [b'7.9', b'3.8', b'6.4', b'2.0', b'Iris-virginica'],\n",
       "       [b'6.4', b'2.8', b'5.6', b'2.2', b'Iris-virginica'],\n",
       "       [b'6.3', b'2.8', b'5.1', b'1.5', b'Iris-virginica'],\n",
       "       [b'6.1', b'2.6', b'5.6', b'1.4', b'Iris-virginica'],\n",
       "       [b'7.7', b'3.0', b'6.1', b'2.3', b'Iris-virginica'],\n",
       "       [b'6.3', b'3.4', b'5.6', b'2.4', b'Iris-virginica'],\n",
       "       [b'6.4', b'3.1', b'5.5', b'1.8', b'Iris-virginica'],\n",
       "       [b'6.0', b'3.0', b'4.8', b'1.8', b'Iris-virginica'],\n",
       "       [b'6.9', b'3.1', b'5.4', b'2.1', b'Iris-virginica'],\n",
       "       [b'6.7', b'3.1', b'5.6', b'2.4', b'Iris-virginica'],\n",
       "       [b'6.9', b'3.1', b'5.1', b'2.3', b'Iris-virginica'],\n",
       "       [b'5.8', b'2.7', b'5.1', b'1.9', b'Iris-virginica'],\n",
       "       [b'6.8', b'3.2', b'5.9', b'2.3', b'Iris-virginica'],\n",
       "       [b'6.7', b'3.3', b'5.7', b'2.5', b'Iris-virginica'],\n",
       "       [b'6.7', b'3.0', b'5.2', b'2.3', b'Iris-virginica'],\n",
       "       [b'6.3', b'2.5', b'5.0', b'1.9', b'Iris-virginica'],\n",
       "       [b'6.5', b'3.0', b'5.2', b'2.0', b'Iris-virginica'],\n",
       "       [b'6.2', b'3.4', b'5.4', b'2.3', b'Iris-virginica'],\n",
       "       [b'5.9', b'3.0', b'5.1', b'1.8', b'Iris-virginica']], dtype=object)"
      ]
     },
     "execution_count": 19,
     "metadata": {},
     "output_type": "execute_result"
    }
   ],
   "source": [
    "iris_data"
   ]
  },
  {
   "cell_type": "code",
   "execution_count": null,
   "metadata": {},
   "outputs": [],
   "source": []
  },
  {
   "cell_type": "code",
   "execution_count": 119,
   "metadata": {},
   "outputs": [
    {
     "name": "stdout",
     "output_type": "stream",
     "text": [
      "true\n",
      "true\n",
      "true\n",
      "false\n"
     ]
    }
   ],
   "source": [
    "def ThreeNumbers(str):\n",
    "  \"\"\"__define-ocg__\n",
    "\n",
    "  This function takes a string 'str' as input and determines if exactly three unique, \n",
    "  single-digit integers occur within each word in the string. \n",
    "\n",
    "  Args:\n",
    "      str: The input string.\n",
    "\n",
    "  Returns:\n",
    "      A string \"true\" if every word contains exactly 3 unique integers somewhere within it, \n",
    "      otherwise returns \"false\".\n",
    "  \"\"\"\n",
    "  # Split the string into a list of words\n",
    "  words = str.split()\n",
    "  \n",
    "  # Iterate over each word in the list\n",
    "  for word in words:\n",
    "    # Create a set to store the unique digits found in the word\n",
    "    varOcg = set()\n",
    "    digit_count = 0\n",
    "    \n",
    "    # Iterate over each character in the word\n",
    "    for char in word:\n",
    "      # Check if the character is a digit\n",
    "      if char.isdigit():\n",
    "        # If the digit is already in the set, the digits are adjacent, return False\n",
    "        if char in varOcg:\n",
    "          return \"false\"\n",
    "        # Add the digit to the set and increment the digit count\n",
    "        varOcg.add(char)\n",
    "        digit_count += 1\n",
    "    \n",
    "    # Check if there are exactly 3 unique digits in the word\n",
    "    if digit_count != 3:\n",
    "      return \"false\"\n",
    "  \n",
    "  # If all words contain exactly 3 unique digits, return True\n",
    "  return \"true\"\n",
    "\n",
    "# Test cases\n",
    "print(ThreeNumbers(\"2hell6o3 wor6l7d2\"))  # Output: true\n",
    "print(ThreeNumbers(\"hell268o w6or2l4d\"))  # Output: false (all digits adjacent in first word) \n",
    "print(ThreeNumbers(\"2a3b5 w1o2rl3d g1gg92\"))  # Output: false (all digits adjacent in first word) \n",
    "print(ThreeNumbers(\"21aa3a ggg4g4g6ggg\"))  # Output: false (all digits adjacent in first word) \n"
   ]
  },
  {
   "cell_type": "code",
   "execution_count": 10,
   "metadata": {},
   "outputs": [
    {
     "name": "stdout",
     "output_type": "stream",
     "text": [
      "false\n",
      "true\n",
      "false\n"
     ]
    }
   ],
   "source": [
    "def ThreeNumbers(str):\n",
    "    temp = \"\"\n",
    "    for x in range(len(str)):\n",
    "        temp += str[x]\n",
    "        count = 0\n",
    "        list = [[] for _ in range(3)]\n",
    "        \n",
    "        if str[x] == ' ' or x == len(str)-1:\n",
    "            for y in range(len(temp)):\n",
    "                if temp[y] >= '0' and temp[y] <= '9':\n",
    "                    list[count].append(int(temp[y]))\n",
    "                    list[count].append(y)\n",
    "                    count += 1\n",
    "                    \n",
    "                    if count > 3:\n",
    "                        return \"false\"\n",
    "            \n",
    "            if list[0][1] + 1 == list[1][1] and list[1][1] + 1 == list[2][1]:\n",
    "                return \"false\"\n",
    "            elif list[0][0] == list[1][0] or list[0][0] == list[2][0] or list[1][0] == list[2][0]:\n",
    "                return \"false\"\n",
    "            temp = \"\"\n",
    "    \n",
    "    return \"true\"\n",
    "\n",
    "print(ThreeNumbers(\"hell268o w6or2l4d\"))\n",
    "print(ThreeNumbers(\"2a3b5 w1o2rl3d g1gg92\"))\n",
    "print(ThreeNumbers(\"21aa3a ggg4g4g6ggg\"))\n",
    "\n"
   ]
  },
  {
   "cell_type": "code",
   "execution_count": 122,
   "metadata": {},
   "outputs": [
    {
     "data": {
      "text/plain": [
       "{1, 2, 4, 9}"
      ]
     },
     "execution_count": 122,
     "metadata": {},
     "output_type": "execute_result"
    }
   ],
   "source": [
    "a = set([1,1,2,9,2,4,9])\n",
    "a"
   ]
  },
  {
   "cell_type": "code",
   "execution_count": 124,
   "metadata": {},
   "outputs": [
    {
     "ename": "TypeError",
     "evalue": "'in <string>' requires string as left operand, not list",
     "output_type": "error",
     "traceback": [
      "\u001b[1;31m---------------------------------------------------------------------------\u001b[0m",
      "\u001b[1;31mTypeError\u001b[0m                                 Traceback (most recent call last)",
      "\u001b[1;32m<ipython-input-124-3eb6419c623b>\u001b[0m in \u001b[0;36m<module>\u001b[1;34m\u001b[0m\n\u001b[0;32m      1\u001b[0m \u001b[0ma\u001b[0m \u001b[1;33m=\u001b[0m \u001b[1;33m[\u001b[0m\u001b[1;34m'apple'\u001b[0m\u001b[1;33m,\u001b[0m \u001b[1;34m'banana'\u001b[0m\u001b[1;33m,\u001b[0m \u001b[1;34m'mango'\u001b[0m\u001b[1;33m]\u001b[0m\u001b[1;33m\u001b[0m\u001b[1;33m\u001b[0m\u001b[0m\n\u001b[1;32m----> 2\u001b[1;33m \u001b[0ma\u001b[0m \u001b[1;32min\u001b[0m \u001b[1;34m'apple'\u001b[0m\u001b[1;33m\u001b[0m\u001b[1;33m\u001b[0m\u001b[0m\n\u001b[0m",
      "\u001b[1;31mTypeError\u001b[0m: 'in <string>' requires string as left operand, not list"
     ]
    }
   ],
   "source": [
    "a = ['apple', 'banana', 'mango']\n",
    "a in 'apple'"
   ]
  },
  {
   "cell_type": "code",
   "execution_count": 160,
   "metadata": {},
   "outputs": [
    {
     "name": "stdout",
     "output_type": "stream",
     "text": [
      "true\n",
      "false\n"
     ]
    }
   ],
   "source": [
    "#Have the function SimplePassword(strParam) take the strParam parameter being passed and determine if it passes as a valid password \n",
    "#that follows the list of constrParamaints:\n",
    "\n",
    "#1. It must have a capital letter.\n",
    "#2. It must contain at least one number.\n",
    "#3. It must contain a punctuation mark.\n",
    "#4. It cannot have the word \"password\" in the strParaming.\n",
    "#5. It must be longer than 7 characters and shorter than 31 characters.\n",
    "\n",
    "#If all the above constrParamaints are met within the strParaming, the your program should return the strParaming true, \n",
    "#otherwise your program should return the strParaming false. For example: if strParam is \"apple!M7\" then your program \n",
    "#should return \"true\".\n",
    "\n",
    "import string \n",
    "\n",
    "def mathsym(a):\n",
    "    j=[]\n",
    "    for i in a:\n",
    "        if i in string.punctuation:\n",
    "            j.append(i)\n",
    "    return(len(j))\n",
    "\n",
    "def SimplePassword(strParam): \n",
    "    b='password'\n",
    "    c=[i.isupper() for i in strParam]  # Capital letter\n",
    "    n=c.count(True)\n",
    "    d=[i.isdigit() for i in strParam] # Number\n",
    "    m=d.count(True)\n",
    "    p=mathsym(strParam)\n",
    "    j=strParam.find(b)\n",
    "    # print(j)\n",
    "    l=len(strParam)\n",
    "    if ((n>=1) and (m>=1) and (p==1) and (j==-1) and (7<l<31)):\n",
    "        a='true'\n",
    "    else:\n",
    "        a='false'\n",
    "    # code goes here \n",
    "    return a\n",
    "    \n",
    "# keep this function call here  \n",
    "# print (SimplePassword(input()))\n",
    "print(SimplePassword(\"turkey90AAA=\"))\n",
    "print(SimplePassword(\"passWord123!!!!\"))"
   ]
  },
  {
   "cell_type": "code",
   "execution_count": 156,
   "metadata": {},
   "outputs": [
    {
     "data": {
      "text/plain": [
       "-1"
      ]
     },
     "execution_count": 156,
     "metadata": {},
     "output_type": "execute_result"
    }
   ],
   "source": [
    "b='password'\n",
    "\"passWord123!!!!\".find(b)"
   ]
  },
  {
   "cell_type": "code",
   "execution_count": 165,
   "metadata": {},
   "outputs": [
    {
     "name": "stdout",
     "output_type": "stream",
     "text": [
      "12-36-18-6\n"
     ]
    }
   ],
   "source": [
    "def OtherProducts(arr):\n",
    "    productArr = []\n",
    "    for i in range(len(arr)):\n",
    "        removed = arr.pop(i)\n",
    "        product = 1\n",
    "        for j in range(len(arr)):\n",
    "            product = product * arr[j]\n",
    "        productArr.append(product)\n",
    "        arr.insert(i, removed)\n",
    "        result = '-'.join(map(str, productArr))\n",
    "\n",
    "    return result\n",
    "print(OtherProducts([3,1,2,6]))"
   ]
  },
  {
   "cell_type": "code",
   "execution_count": null,
   "metadata": {},
   "outputs": [],
   "source": []
  },
  {
   "cell_type": "code",
   "execution_count": 1,
   "metadata": {},
   "outputs": [
    {
     "ename": "ValueError",
     "evalue": "time data '2022-02-28T06:00:00.000Z' does not match format '%Y-%m-%dT05:00:00.000Z'",
     "output_type": "error",
     "traceback": [
      "\u001b[1;31m---------------------------------------------------------------------------\u001b[0m",
      "\u001b[1;31mValueError\u001b[0m                                Traceback (most recent call last)",
      "\u001b[1;32m<ipython-input-1-91100433127d>\u001b[0m in \u001b[0;36m<module>\u001b[1;34m\u001b[0m\n\u001b[0;32m     51\u001b[0m \u001b[1;33m\u001b[0m\u001b[0m\n\u001b[0;32m     52\u001b[0m \u001b[1;32mif\u001b[0m \u001b[0m__name__\u001b[0m \u001b[1;33m==\u001b[0m \u001b[1;34m\"__main__\"\u001b[0m\u001b[1;33m:\u001b[0m\u001b[1;33m\u001b[0m\u001b[1;33m\u001b[0m\u001b[0m\n\u001b[1;32m---> 53\u001b[1;33m   \u001b[0mmain\u001b[0m\u001b[1;33m(\u001b[0m\u001b[1;33m)\u001b[0m\u001b[1;33m\u001b[0m\u001b[1;33m\u001b[0m\u001b[0m\n\u001b[0m",
      "\u001b[1;32m<ipython-input-1-91100433127d>\u001b[0m in \u001b[0;36mmain\u001b[1;34m()\u001b[0m\n\u001b[0;32m     44\u001b[0m   \u001b[1;32mif\u001b[0m \u001b[0mresponse\u001b[0m\u001b[1;33m.\u001b[0m\u001b[0mstatus_code\u001b[0m \u001b[1;33m==\u001b[0m \u001b[1;36m200\u001b[0m\u001b[1;33m:\u001b[0m\u001b[1;33m\u001b[0m\u001b[1;33m\u001b[0m\u001b[0m\n\u001b[0;32m     45\u001b[0m     \u001b[0mdata\u001b[0m \u001b[1;33m=\u001b[0m \u001b[0mjson\u001b[0m\u001b[1;33m.\u001b[0m\u001b[0mloads\u001b[0m\u001b[1;33m(\u001b[0m\u001b[0mresponse\u001b[0m\u001b[1;33m.\u001b[0m\u001b[0mtext\u001b[0m\u001b[1;33m)\u001b[0m\u001b[1;33m\u001b[0m\u001b[1;33m\u001b[0m\u001b[0m\n\u001b[1;32m---> 46\u001b[1;33m     \u001b[0mfilled_data\u001b[0m \u001b[1;33m=\u001b[0m \u001b[0mfill_missing_dates\u001b[0m\u001b[1;33m(\u001b[0m\u001b[0mdata\u001b[0m\u001b[1;33m)\u001b[0m\u001b[1;33m\u001b[0m\u001b[1;33m\u001b[0m\u001b[0m\n\u001b[0m\u001b[0;32m     47\u001b[0m     \u001b[0mprint\u001b[0m\u001b[1;33m(\u001b[0m\u001b[0mjson\u001b[0m\u001b[1;33m.\u001b[0m\u001b[0mdumps\u001b[0m\u001b[1;33m(\u001b[0m\u001b[0mfilled_data\u001b[0m\u001b[1;33m)\u001b[0m\u001b[1;33m)\u001b[0m\u001b[1;33m\u001b[0m\u001b[1;33m\u001b[0m\u001b[0m\n\u001b[0;32m     48\u001b[0m   \u001b[1;32melse\u001b[0m\u001b[1;33m:\u001b[0m\u001b[1;33m\u001b[0m\u001b[1;33m\u001b[0m\u001b[0m\n",
      "\u001b[1;32m<ipython-input-1-91100433127d>\u001b[0m in \u001b[0;36mfill_missing_dates\u001b[1;34m(data)\u001b[0m\n\u001b[0;32m     21\u001b[0m   all_dates = [\n\u001b[0;32m     22\u001b[0m       \u001b[1;33m(\u001b[0m\u001b[0mearliest_date\u001b[0m \u001b[1;33m+\u001b[0m \u001b[0mdatetime\u001b[0m\u001b[1;33m.\u001b[0m\u001b[0mtimedelta\u001b[0m\u001b[1;33m(\u001b[0m\u001b[0mdays\u001b[0m\u001b[1;33m=\u001b[0m\u001b[0mi\u001b[0m\u001b[1;33m)\u001b[0m\u001b[1;33m)\u001b[0m\u001b[1;33m.\u001b[0m\u001b[0mstrftime\u001b[0m\u001b[1;33m(\u001b[0m\u001b[1;34m\"%Y-%m-%dT05:00:00.000Z\"\u001b[0m\u001b[1;33m)\u001b[0m\u001b[1;33m\u001b[0m\u001b[1;33m\u001b[0m\u001b[0m\n\u001b[1;32m---> 23\u001b[1;33m       \u001b[1;32mfor\u001b[0m \u001b[0mi\u001b[0m \u001b[1;32min\u001b[0m \u001b[0mrange\u001b[0m\u001b[1;33m(\u001b[0m\u001b[1;33m(\u001b[0m\u001b[0mdatetime\u001b[0m\u001b[1;33m.\u001b[0m\u001b[0mdatetime\u001b[0m\u001b[1;33m.\u001b[0m\u001b[0mstrptime\u001b[0m\u001b[1;33m(\u001b[0m\u001b[0mlatest_date\u001b[0m\u001b[1;33m,\u001b[0m \u001b[1;34m\"%Y-%m-%dT05:00:00.000Z\"\u001b[0m\u001b[1;33m)\u001b[0m \u001b[1;33m-\u001b[0m \u001b[0mdatetime\u001b[0m\u001b[1;33m.\u001b[0m\u001b[0mdatetime\u001b[0m\u001b[1;33m.\u001b[0m\u001b[0mstrptime\u001b[0m\u001b[1;33m(\u001b[0m\u001b[0mearliest_date\u001b[0m\u001b[1;33m,\u001b[0m \u001b[1;34m\"%Y-%m-%dT05:00:00.000Z\"\u001b[0m\u001b[1;33m)\u001b[0m\u001b[1;33m)\u001b[0m\u001b[1;33m.\u001b[0m\u001b[0mdays\u001b[0m \u001b[1;33m+\u001b[0m \u001b[1;36m1\u001b[0m\u001b[1;33m)\u001b[0m\u001b[1;33m\u001b[0m\u001b[1;33m\u001b[0m\u001b[0m\n\u001b[0m\u001b[0;32m     24\u001b[0m   ]\n\u001b[0;32m     25\u001b[0m \u001b[1;33m\u001b[0m\u001b[0m\n",
      "\u001b[1;32md:\\AI_Study_Module\\Anaconda3\\lib\\_strptime.py\u001b[0m in \u001b[0;36m_strptime_datetime\u001b[1;34m(cls, data_string, format)\u001b[0m\n\u001b[0;32m    566\u001b[0m     \"\"\"Return a class cls instance based on the input string and the\n\u001b[0;32m    567\u001b[0m     format string.\"\"\"\n\u001b[1;32m--> 568\u001b[1;33m     \u001b[0mtt\u001b[0m\u001b[1;33m,\u001b[0m \u001b[0mfraction\u001b[0m\u001b[1;33m,\u001b[0m \u001b[0mgmtoff_fraction\u001b[0m \u001b[1;33m=\u001b[0m \u001b[0m_strptime\u001b[0m\u001b[1;33m(\u001b[0m\u001b[0mdata_string\u001b[0m\u001b[1;33m,\u001b[0m \u001b[0mformat\u001b[0m\u001b[1;33m)\u001b[0m\u001b[1;33m\u001b[0m\u001b[1;33m\u001b[0m\u001b[0m\n\u001b[0m\u001b[0;32m    569\u001b[0m     \u001b[0mtzname\u001b[0m\u001b[1;33m,\u001b[0m \u001b[0mgmtoff\u001b[0m \u001b[1;33m=\u001b[0m \u001b[0mtt\u001b[0m\u001b[1;33m[\u001b[0m\u001b[1;33m-\u001b[0m\u001b[1;36m2\u001b[0m\u001b[1;33m:\u001b[0m\u001b[1;33m]\u001b[0m\u001b[1;33m\u001b[0m\u001b[1;33m\u001b[0m\u001b[0m\n\u001b[0;32m    570\u001b[0m     \u001b[0margs\u001b[0m \u001b[1;33m=\u001b[0m \u001b[0mtt\u001b[0m\u001b[1;33m[\u001b[0m\u001b[1;33m:\u001b[0m\u001b[1;36m6\u001b[0m\u001b[1;33m]\u001b[0m \u001b[1;33m+\u001b[0m \u001b[1;33m(\u001b[0m\u001b[0mfraction\u001b[0m\u001b[1;33m,\u001b[0m\u001b[1;33m)\u001b[0m\u001b[1;33m\u001b[0m\u001b[1;33m\u001b[0m\u001b[0m\n",
      "\u001b[1;32md:\\AI_Study_Module\\Anaconda3\\lib\\_strptime.py\u001b[0m in \u001b[0;36m_strptime\u001b[1;34m(data_string, format)\u001b[0m\n\u001b[0;32m    347\u001b[0m     \u001b[0mfound\u001b[0m \u001b[1;33m=\u001b[0m \u001b[0mformat_regex\u001b[0m\u001b[1;33m.\u001b[0m\u001b[0mmatch\u001b[0m\u001b[1;33m(\u001b[0m\u001b[0mdata_string\u001b[0m\u001b[1;33m)\u001b[0m\u001b[1;33m\u001b[0m\u001b[1;33m\u001b[0m\u001b[0m\n\u001b[0;32m    348\u001b[0m     \u001b[1;32mif\u001b[0m \u001b[1;32mnot\u001b[0m \u001b[0mfound\u001b[0m\u001b[1;33m:\u001b[0m\u001b[1;33m\u001b[0m\u001b[1;33m\u001b[0m\u001b[0m\n\u001b[1;32m--> 349\u001b[1;33m         raise ValueError(\"time data %r does not match format %r\" %\n\u001b[0m\u001b[0;32m    350\u001b[0m                          (data_string, format))\n\u001b[0;32m    351\u001b[0m     \u001b[1;32mif\u001b[0m \u001b[0mlen\u001b[0m\u001b[1;33m(\u001b[0m\u001b[0mdata_string\u001b[0m\u001b[1;33m)\u001b[0m \u001b[1;33m!=\u001b[0m \u001b[0mfound\u001b[0m\u001b[1;33m.\u001b[0m\u001b[0mend\u001b[0m\u001b[1;33m(\u001b[0m\u001b[1;33m)\u001b[0m\u001b[1;33m:\u001b[0m\u001b[1;33m\u001b[0m\u001b[1;33m\u001b[0m\u001b[0m\n",
      "\u001b[1;31mValueError\u001b[0m: time data '2022-02-28T06:00:00.000Z' does not match format '%Y-%m-%dT05:00:00.000Z'"
     ]
    }
   ],
   "source": [
    "import requests\n",
    "import json\n",
    "import datetime\n",
    "\n",
    "\n",
    "def fill_missing_dates(data):\n",
    "  \"\"\"Fills in missing dates in a list of dictionaries.\n",
    "\n",
    "  Args:\n",
    "      data: A list of dictionaries, where each dictionary has a \"date\" and a \"value\" key.\n",
    "\n",
    "  Returns:\n",
    "      A new list of dictionaries with missing dates filled in and set to 0.\n",
    "  \"\"\"\n",
    "\n",
    "  # Get the earliest and latest dates from the data.\n",
    "  earliest_date = min(data, key=lambda x: x[\"date\"])[\"date\"]\n",
    "  latest_date = max(data, key=lambda x: x[\"date\"])[\"date\"]\n",
    "\n",
    "  # Create a list of all dates in the sequence from earliest to latest.\n",
    "  all_dates = [\n",
    "      (earliest_date + datetime.timedelta(days=i)).strftime(\"%Y-%m-%dT05:00:00.000Z\")\n",
    "      for i in range((datetime.datetime.strptime(latest_date, \"%Y-%m-%dT05:00:00.000Z\") - datetime.datetime.strptime(earliest_date, \"%Y-%m-%dT05:00:00.000Z\")).days + 1)\n",
    "  ]\n",
    "\n",
    "  # Create a dictionary to store the data with filled missing dates.\n",
    "  filled_data = {}\n",
    "  for date in all_dates:\n",
    "    filled_data[date] = {\"date\": date, \"value\": 0}\n",
    "\n",
    "  # Fill in the values from the original data.\n",
    "  for item in data:\n",
    "    filled_data[item[\"date\"]][\"value\"] = item[\"value\"]\n",
    "\n",
    "  # Return the list of dictionaries with missing dates filled in.\n",
    "  return list(filled_data.values())\n",
    "\n",
    "\n",
    "def main():\n",
    "  # Replace 'YOUR_API_KEY' with your actual Coderbyte API key.\n",
    "  url = \"https://coderbyte.com/api/challenges/json/date-list\"\n",
    "  response = requests.get(url)\n",
    "\n",
    "  if response.status_code == 200:\n",
    "    data = json.loads(response.text)\n",
    "    filled_data = fill_missing_dates(data)\n",
    "    print(json.dumps(filled_data))\n",
    "  else:\n",
    "    print(\"Error:\", response.status_code)\n",
    "\n",
    "\n",
    "if __name__ == \"__main__\":\n",
    "  main()\n"
   ]
  },
  {
   "cell_type": "code",
   "execution_count": 3,
   "metadata": {},
   "outputs": [],
   "source": [
    "url = \"https://coderbyte.com/api/challenges/json/date-list\"\n",
    "response = requests.get(url)\n",
    "\n",
    "data = json.loads(response.text)"
   ]
  },
  {
   "cell_type": "code",
   "execution_count": 4,
   "metadata": {},
   "outputs": [
    {
     "data": {
      "text/plain": [
       "[{'date': '2022-02-10T13:10:00.000Z', 'value': 10},\n",
       " {'date': '2022-02-10T13:15:00.000Z', 'value': 20},\n",
       " {'date': '2022-02-10T13:20:00.000Z', 'value': 30},\n",
       " {'date': '2022-02-10T13:30:00.000Z', 'value': 25},\n",
       " {'date': '2022-02-12T07:00:00.000Z', 'value': 5},\n",
       " {'date': '2022-02-08T06:00:00.000Z', 'value': 40},\n",
       " {'date': '2022-02-04T06:00:00.000Z', 'value': 40},\n",
       " {'date': '2022-02-28T06:00:00.000Z', 'value': 40}]"
      ]
     },
     "execution_count": 4,
     "metadata": {},
     "output_type": "execute_result"
    }
   ],
   "source": [
    "data"
   ]
  },
  {
   "cell_type": "code",
   "execution_count": 7,
   "metadata": {},
   "outputs": [
    {
     "ename": "TypeError",
     "evalue": "can only concatenate str (not \"datetime.timedelta\") to str",
     "output_type": "error",
     "traceback": [
      "\u001b[1;31m---------------------------------------------------------------------------\u001b[0m",
      "\u001b[1;31mTypeError\u001b[0m                                 Traceback (most recent call last)",
      "\u001b[1;32m<ipython-input-7-ca44a09d82fb>\u001b[0m in \u001b[0;36m<module>\u001b[1;34m\u001b[0m\n\u001b[0;32m      2\u001b[0m \u001b[0mlatest_date\u001b[0m \u001b[1;33m=\u001b[0m \u001b[0mmax\u001b[0m\u001b[1;33m(\u001b[0m\u001b[0mdata\u001b[0m\u001b[1;33m,\u001b[0m \u001b[0mkey\u001b[0m\u001b[1;33m=\u001b[0m\u001b[1;32mlambda\u001b[0m \u001b[0mx\u001b[0m\u001b[1;33m:\u001b[0m \u001b[0mx\u001b[0m\u001b[1;33m[\u001b[0m\u001b[1;34m\"date\"\u001b[0m\u001b[1;33m]\u001b[0m\u001b[1;33m)\u001b[0m\u001b[1;33m[\u001b[0m\u001b[1;34m\"date\"\u001b[0m\u001b[1;33m]\u001b[0m\u001b[1;33m\u001b[0m\u001b[1;33m\u001b[0m\u001b[0m\n\u001b[0;32m      3\u001b[0m \u001b[1;31m# Create a list of all dates in the sequence from earliest to latest.\u001b[0m\u001b[1;33m\u001b[0m\u001b[1;33m\u001b[0m\u001b[1;33m\u001b[0m\u001b[0m\n\u001b[1;32m----> 4\u001b[1;33m all_dates = [\n\u001b[0m\u001b[0;32m      5\u001b[0m     \u001b[1;33m(\u001b[0m\u001b[0mearliest_date\u001b[0m \u001b[1;33m+\u001b[0m \u001b[0mdatetime\u001b[0m\u001b[1;33m.\u001b[0m\u001b[0mtimedelta\u001b[0m\u001b[1;33m(\u001b[0m\u001b[0mdays\u001b[0m\u001b[1;33m=\u001b[0m\u001b[0mi\u001b[0m\u001b[1;33m)\u001b[0m\u001b[1;33m)\u001b[0m\u001b[1;33m\u001b[0m\u001b[1;33m\u001b[0m\u001b[0m\n\u001b[0;32m      6\u001b[0m     \u001b[1;32mfor\u001b[0m \u001b[0mi\u001b[0m \u001b[1;32min\u001b[0m \u001b[0mrange\u001b[0m\u001b[1;33m(\u001b[0m\u001b[1;33m(\u001b[0m\u001b[0mdatetime\u001b[0m\u001b[1;33m.\u001b[0m\u001b[0mdatetime\u001b[0m\u001b[1;33m.\u001b[0m\u001b[0mstrptime\u001b[0m\u001b[1;33m(\u001b[0m\u001b[0mlatest_date\u001b[0m\u001b[1;33m,\u001b[0m \u001b[1;34m'%Y-%m-%dT%H:%M:%S.%fZ'\u001b[0m\u001b[1;33m)\u001b[0m \u001b[1;33m-\u001b[0m \u001b[0mdatetime\u001b[0m\u001b[1;33m.\u001b[0m\u001b[0mdatetime\u001b[0m\u001b[1;33m.\u001b[0m\u001b[0mstrptime\u001b[0m\u001b[1;33m(\u001b[0m\u001b[0mearliest_date\u001b[0m\u001b[1;33m,\u001b[0m \u001b[1;34m'%Y-%m-%dT%H:%M:%S.%fZ'\u001b[0m\u001b[1;33m)\u001b[0m\u001b[1;33m)\u001b[0m\u001b[1;33m.\u001b[0m\u001b[0mdays\u001b[0m \u001b[1;33m+\u001b[0m \u001b[1;36m1\u001b[0m\u001b[1;33m)\u001b[0m\u001b[1;33m\u001b[0m\u001b[1;33m\u001b[0m\u001b[0m\n",
      "\u001b[1;32m<ipython-input-7-ca44a09d82fb>\u001b[0m in \u001b[0;36m<listcomp>\u001b[1;34m(.0)\u001b[0m\n\u001b[0;32m      3\u001b[0m \u001b[1;31m# Create a list of all dates in the sequence from earliest to latest.\u001b[0m\u001b[1;33m\u001b[0m\u001b[1;33m\u001b[0m\u001b[1;33m\u001b[0m\u001b[0m\n\u001b[0;32m      4\u001b[0m all_dates = [\n\u001b[1;32m----> 5\u001b[1;33m     \u001b[1;33m(\u001b[0m\u001b[0mearliest_date\u001b[0m \u001b[1;33m+\u001b[0m \u001b[0mdatetime\u001b[0m\u001b[1;33m.\u001b[0m\u001b[0mtimedelta\u001b[0m\u001b[1;33m(\u001b[0m\u001b[0mdays\u001b[0m\u001b[1;33m=\u001b[0m\u001b[0mi\u001b[0m\u001b[1;33m)\u001b[0m\u001b[1;33m)\u001b[0m\u001b[1;33m\u001b[0m\u001b[1;33m\u001b[0m\u001b[0m\n\u001b[0m\u001b[0;32m      6\u001b[0m     \u001b[1;32mfor\u001b[0m \u001b[0mi\u001b[0m \u001b[1;32min\u001b[0m \u001b[0mrange\u001b[0m\u001b[1;33m(\u001b[0m\u001b[1;33m(\u001b[0m\u001b[0mdatetime\u001b[0m\u001b[1;33m.\u001b[0m\u001b[0mdatetime\u001b[0m\u001b[1;33m.\u001b[0m\u001b[0mstrptime\u001b[0m\u001b[1;33m(\u001b[0m\u001b[0mlatest_date\u001b[0m\u001b[1;33m,\u001b[0m \u001b[1;34m'%Y-%m-%dT%H:%M:%S.%fZ'\u001b[0m\u001b[1;33m)\u001b[0m \u001b[1;33m-\u001b[0m \u001b[0mdatetime\u001b[0m\u001b[1;33m.\u001b[0m\u001b[0mdatetime\u001b[0m\u001b[1;33m.\u001b[0m\u001b[0mstrptime\u001b[0m\u001b[1;33m(\u001b[0m\u001b[0mearliest_date\u001b[0m\u001b[1;33m,\u001b[0m \u001b[1;34m'%Y-%m-%dT%H:%M:%S.%fZ'\u001b[0m\u001b[1;33m)\u001b[0m\u001b[1;33m)\u001b[0m\u001b[1;33m.\u001b[0m\u001b[0mdays\u001b[0m \u001b[1;33m+\u001b[0m \u001b[1;36m1\u001b[0m\u001b[1;33m)\u001b[0m\u001b[1;33m\u001b[0m\u001b[1;33m\u001b[0m\u001b[0m\n\u001b[0;32m      7\u001b[0m ]\n",
      "\u001b[1;31mTypeError\u001b[0m: can only concatenate str (not \"datetime.timedelta\") to str"
     ]
    }
   ],
   "source": [
    "earliest_date = min(data, key=lambda x: x[\"date\"])[\"date\"]\n",
    "latest_date = max(data, key=lambda x: x[\"date\"])[\"date\"]\n",
    "# Create a list of all dates in the sequence from earliest to latest.\n",
    "all_dates = [\n",
    "    (earliest_date + datetime.timedelta(days=i)).strftime('%Y-%m-%dT%H:%M:%S.%fZ')\n",
    "    for i in range((datetime.datetime.strptime(latest_date, '%Y-%m-%dT%H:%M:%S.%fZ') - datetime.datetime.strptime(earliest_date, '%Y-%m-%dT%H:%M:%S.%fZ')).days + 1)\n",
    "]"
   ]
  },
  {
   "cell_type": "code",
   "execution_count": 2,
   "metadata": {},
   "outputs": [
    {
     "name": "stdout",
     "output_type": "stream",
     "text": [
      "[{'date': '2022-02-10T13:10:00.000Z', 'value': 10}, {'date': '2022-02-10T13:15:00.000Z', 'value': 20}, {'date': '2022-02-10T13:20:00.000Z', 'value': 30}, {'date': '2022-02-10T13:30:00.000Z', 'value': 25}, {'date': '2022-02-12T07:00:00.000Z', 'value': 5}, {'date': '2022-02-08T06:00:00.000Z', 'value': 40}, {'date': '2022-02-04T06:00:00.000Z', 'value': 40}, {'date': '2022-02-28T06:00:00.000Z', 'value': 40}]\n"
     ]
    }
   ],
   "source": [
    "import requests\n",
    "import json\n",
    "\n",
    "url = \"https://coderbyte.com/api/challenges/json/date-list\"\n",
    "response = requests.get(url)\n",
    "response = json.loads(response.text)\n",
    "print(response)"
   ]
  },
  {
   "cell_type": "code",
   "execution_count": 73,
   "metadata": {},
   "outputs": [],
   "source": [
    "import requests\n",
    "import json\n",
    "\n",
    "\n",
    "url = \"https://coderbyte.com/api/challenges/logs/user-info-csv\"\n",
    "response = requests.get(url)\n",
    "# response = json.loads(response.text)\n",
    "# print(response)"
   ]
  },
  {
   "cell_type": "code",
   "execution_count": 77,
   "metadata": {},
   "outputs": [
    {
     "name": "stdout",
     "output_type": "stream",
     "text": [
      "Name Email Phone\n",
      "Harry Potter harrypotter@hogwarts.edu 555-1234\n",
      "Hermione Granger hermionegranger@hogwarts.edu 555-5678\n",
      "Ron Weasley ronweasley@hogwarts.edu 555-2468\n",
      "Luna Lovegood lunalovegood@hogwarts.edu 555-3691\n",
      "Draco Malfoy dracomalfoy@hogwarts.edu 555-8024\n",
      "Neville Longbottom nevillelongbottom@hogwarts.edu 555-1357\n",
      "Ginny Weasley ginnyweasley@hogwarts.edu 555-2468\n",
      "Cho Chang chochang@hogwarts.edu 555-3691\n",
      "Fred Weasley fredweasley@hogwarts.edu 555-8024\n",
      "Lavender Brown lavenderbrown@hogwarts.edu 555-1357\n"
     ]
    }
   ],
   "source": [
    "# Ensure you have csv library installed\n",
    "import csv\n",
    "csv_list = []\n",
    "# csv_list = ['name','email','phone']\n",
    "\n",
    "if response.status_code == 200:\n",
    "    data = response.text  # Get the CSV data as text\n",
    "    reader = csv.reader(data.splitlines())  # Create a CSV reader\n",
    "\n",
    "    for row in reader:\n",
    "        print(row[0],row[1],row[2])  # Print each row of the CSV data\n",
    "        csv_list.append(row)\n"
   ]
  },
  {
   "cell_type": "code",
   "execution_count": 78,
   "metadata": {},
   "outputs": [
    {
     "data": {
      "text/plain": [
       "[['Name', 'Email', 'Phone'],\n",
       " ['Harry Potter', 'harrypotter@hogwarts.edu', '555-1234'],\n",
       " ['Hermione Granger', 'hermionegranger@hogwarts.edu', '555-5678'],\n",
       " ['Ron Weasley', 'ronweasley@hogwarts.edu', '555-2468'],\n",
       " ['Luna Lovegood', 'lunalovegood@hogwarts.edu', '555-3691'],\n",
       " ['Draco Malfoy', 'dracomalfoy@hogwarts.edu', '555-8024'],\n",
       " ['Neville Longbottom', 'nevillelongbottom@hogwarts.edu', '555-1357'],\n",
       " ['Ginny Weasley', 'ginnyweasley@hogwarts.edu', '555-2468'],\n",
       " ['Cho Chang', 'chochang@hogwarts.edu', '555-3691'],\n",
       " ['Fred Weasley', 'fredweasley@hogwarts.edu', '555-8024'],\n",
       " ['Lavender Brown', 'lavenderbrown@hogwarts.edu', '555-1357']]"
      ]
     },
     "execution_count": 78,
     "metadata": {},
     "output_type": "execute_result"
    }
   ],
   "source": [
    "csv_list"
   ]
  },
  {
   "cell_type": "code",
   "execution_count": 80,
   "metadata": {},
   "outputs": [
    {
     "name": "stdout",
     "output_type": "stream",
     "text": [
      "Name,Email,Phone\n",
      "Harry Potter,harrypotter@hogwarts.edu,555-1234\n",
      "Hermione Granger,hermionegranger@hogwarts.edu,555-5678\n",
      "Ron Weasley,ronweasley@hogwarts.edu,555-2468\n",
      "Luna Lovegood,lunalovegood@hogwarts.edu,555-3691\n",
      "Draco Malfoy,dracomalfoy@hogwarts.edu,555-8024\n",
      "Neville Longbottom,nevillelongbottom@hogwarts.edu,555-1357\n",
      "Ginny Weasley,ginnyweasley@hogwarts.edu,555-2468\n",
      "Cho Chang,chochang@hogwarts.edu,555-3691\n",
      "Fred Weasley,fredweasley@hogwarts.edu,555-8024\n",
      "Lavender Brown,lavenderbrown@hogwarts.edu,555-1357\n",
      "\n"
     ]
    }
   ],
   "source": [
    "# Initialize an empty string variable\n",
    "csv_string = \"\"\n",
    "\n",
    "# Loop through each row and concatenate elements with commas\n",
    "for row in csv_list:\n",
    "    csv_string += ','.join(row) + '\\n'  # Add newline character for each row\n",
    "\n",
    "# Print the resulting CSV string\n",
    "print(csv_string)"
   ]
  },
  {
   "cell_type": "code",
   "execution_count": 109,
   "metadata": {},
   "outputs": [
    {
     "data": {
      "text/plain": [
       "'[{\"Name\":\"Cho Chang\",\"Email\":\"chochang@hogwarts.edu\",\"Phone\":\"555-3691\"},{\"Name\":\"Draco Malfoy\",\"Email\":\"dracomalfoy@hogwarts.edu\",\"Phone\":\"555-8024\"},{\"Name\":\"Fred Weasley\",\"Email\":\"fredweasley@hogwarts.edu\",\"Phone\":\"555-8024\"},{\"Name\":\"Ginny Weasley\",\"Email\":\"ginnyweasley@hogwarts.edu\",\"Phone\":\"555-2468\"},{\"Name\":\"Harry Potter\",\"Email\":\"harrypotter@hogwarts.edu\",\"Phone\":\"555-1234\"},{\"Name\":\"Hermione Granger\",\"Email\":\"hermionegranger@hogwarts.edu\",\"Phone\":\"555-5678\"},{\"Name\":\"Lavender Brown\",\"Email\":\"lavenderbrown@hogwarts.edu\",\"Phone\":\"555-1357\"},{\"Name\":\"Luna Lovegood\",\"Email\":\"lunalovegood@hogwarts.edu\",\"Phone\":\"555-3691\"},{\"Name\":\"Neville Longbottom\",\"Email\":\"nevillelongbottom@hogwarts.edu\",\"Phone\":\"555-1357\"},{\"Name\":\"Ron Weasley\",\"Email\":\"ronweasley@hogwarts.edu\",\"Phone\":\"555-2468\"}]'"
      ]
     },
     "execution_count": 109,
     "metadata": {},
     "output_type": "execute_result"
    }
   ],
   "source": [
    "import pandas as pd\n",
    "df = pd.DataFrame(csv_list, columns=csv_list[0])\n",
    "df.drop(df.index[0], inplace=True)\n",
    "df.sort_values(by=['Email'], inplace=True)\n",
    "restponse = df.to_json(orient='records')"
   ]
  },
  {
   "cell_type": "code",
   "execution_count": 108,
   "metadata": {},
   "outputs": [
    {
     "data": {
      "text/plain": [
       "'[{\"Name\":\"Cho Chang\",\"Email\":\"chochang@hogwarts.edu\",\"Phone\":\"555-3691\"},{\"Name\":\"Draco Malfoy\",\"Email\":\"dracomalfoy@hogwarts.edu\",\"Phone\":\"555-8024\"},{\"Name\":\"Fred Weasley\",\"Email\":\"fredweasley@hogwarts.edu\",\"Phone\":\"555-8024\"},{\"Name\":\"Ginny Weasley\",\"Email\":\"ginnyweasley@hogwarts.edu\",\"Phone\":\"555-2468\"},{\"Name\":\"Harry Potter\",\"Email\":\"harrypotter@hogwarts.edu\",\"Phone\":\"555-1234\"},{\"Name\":\"Hermione Granger\",\"Email\":\"hermionegranger@hogwarts.edu\",\"Phone\":\"555-5678\"},{\"Name\":\"Lavender Brown\",\"Email\":\"lavenderbrown@hogwarts.edu\",\"Phone\":\"555-1357\"},{\"Name\":\"Luna Lovegood\",\"Email\":\"lunalovegood@hogwarts.edu\",\"Phone\":\"555-3691\"},{\"Name\":\"Neville Longbottom\",\"Email\":\"nevillelongbottom@hogwarts.edu\",\"Phone\":\"555-1357\"},{\"Name\":\"Ron Weasley\",\"Email\":\"ronweasley@hogwarts.edu\",\"Phone\":\"555-2468\"}]'"
      ]
     },
     "execution_count": 108,
     "metadata": {},
     "output_type": "execute_result"
    }
   ],
   "source": [
    "df.to_json(orient='records')"
   ]
  },
  {
   "cell_type": "code",
   "execution_count": 68,
   "metadata": {},
   "outputs": [],
   "source": [
    "csv_list[0] = ['name','email','phone']"
   ]
  },
  {
   "cell_type": "code",
   "execution_count": 69,
   "metadata": {},
   "outputs": [
    {
     "data": {
      "text/plain": [
       "[['name', 'email', 'phone'],\n",
       " ['Harry Potter', 'harrypotter@hogwarts.edu', '555-1234'],\n",
       " ['Hermione Granger', 'hermionegranger@hogwarts.edu', '555-5678'],\n",
       " ['Ron Weasley', 'ronweasley@hogwarts.edu', '555-2468'],\n",
       " ['Luna Lovegood', 'lunalovegood@hogwarts.edu', '555-3691'],\n",
       " ['Draco Malfoy', 'dracomalfoy@hogwarts.edu', '555-8024'],\n",
       " ['Neville Longbottom', 'nevillelongbottom@hogwarts.edu', '555-1357'],\n",
       " ['Ginny Weasley', 'ginnyweasley@hogwarts.edu', '555-2468'],\n",
       " ['Cho Chang', 'chochang@hogwarts.edu', '555-3691'],\n",
       " ['Fred Weasley', 'fredweasley@hogwarts.edu', '555-8024'],\n",
       " ['Lavender Brown', 'lavenderbrown@hogwarts.edu', '555-1357']]"
      ]
     },
     "execution_count": 69,
     "metadata": {},
     "output_type": "execute_result"
    }
   ],
   "source": [
    "csv_list"
   ]
  },
  {
   "cell_type": "code",
   "execution_count": 70,
   "metadata": {},
   "outputs": [],
   "source": [
    "data = csv_list"
   ]
  },
  {
   "cell_type": "code",
   "execution_count": 71,
   "metadata": {},
   "outputs": [
    {
     "name": "stdout",
     "output_type": "stream",
     "text": [
      "[{\"name\":\"Harry Potter\",\"email\":\"harrypotter@hogwarts.edu\",\"phone\":\"555-1234\"},{\"name\":\"Hermione Granger\",\"email\":\"hermionegranger@hogwarts.edu\",\"phone\":\"555-5678\"},{\"name\":\"Ron Weasley\",\"email\":\"ronweasley@hogwarts.edu\",\"phone\":\"555-2468\"},{\"name\":\"Luna Lovegood\",\"email\":\"lunalovegood@hogwarts.edu\",\"phone\":\"555-3691\"},{\"name\":\"Draco Malfoy\",\"email\":\"dracomalfoy@hogwarts.edu\",\"phone\":\"555-8024\"},{\"name\":\"Neville Longbottom\",\"email\":\"nevillelongbottom@hogwarts.edu\",\"phone\":\"555-1357\"},{\"name\":\"Ginny Weasley\",\"email\":\"ginnyweasley@hogwarts.edu\",\"phone\":\"555-2468\"},{\"name\":\"Cho Chang\",\"email\":\"chochang@hogwarts.edu\",\"phone\":\"555-3691\"},{\"name\":\"Fred Weasley\",\"email\":\"fredweasley@hogwarts.edu\",\"phone\":\"555-8024\"},{\"name\":\"Lavender Brown\",\"email\":\"lavenderbrown@hogwarts.edu\",\"phone\":\"555-1357\"}]\n"
     ]
    }
   ],
   "source": [
    "# Create a list of dictionaries, where each dictionary represents a student\n",
    "students = []\n",
    "for student in data[1:]:  # Skip the header row\n",
    "    student_dict = dict(zip(data[0], student))\n",
    "    students.append(student_dict)\n",
    "\n",
    "# Convert the list of dictionaries to a JSON string\n",
    "response = json.dumps(students, separators=(',', ':'))  # Add indentation for readability\n",
    "\n",
    "# Print the JSON string\n",
    "print(response)"
   ]
  },
  {
   "cell_type": "code",
   "execution_count": 4,
   "metadata": {},
   "outputs": [
    {
     "name": "stdout",
     "output_type": "stream",
     "text": [
      "{'date': '2022-02-10T13:10:00.000Z', 'value': 10}\n",
      "{'date': '2022-02-10T13:15:00.000Z', 'value': 20}\n",
      "{'date': '2022-02-10T13:20:00.000Z', 'value': 30}\n",
      "{'date': '2022-02-10T13:30:00.000Z', 'value': 25}\n",
      "{'date': '2022-02-12T07:00:00.000Z', 'value': 5}\n",
      "{'date': '2022-02-08T06:00:00.000Z', 'value': 40}\n",
      "{'date': '2022-02-04T06:00:00.000Z', 'value': 40}\n",
      "{'date': '2022-02-28T06:00:00.000Z', 'value': 40}\n"
     ]
    }
   ],
   "source": [
    "for i in response:\n",
    "    print(i)"
   ]
  },
  {
   "cell_type": "code",
   "execution_count": 6,
   "metadata": {},
   "outputs": [
    {
     "ename": "TypeError",
     "evalue": "sortkey() takes 0 positional arguments but 1 was given",
     "output_type": "error",
     "traceback": [
      "\u001b[1;31m---------------------------------------------------------------------------\u001b[0m",
      "\u001b[1;31mTypeError\u001b[0m                                 Traceback (most recent call last)",
      "\u001b[1;32m<ipython-input-6-bde655cc0305>\u001b[0m in \u001b[0;36m<module>\u001b[1;34m\u001b[0m\n\u001b[0;32m      1\u001b[0m \u001b[1;32mdef\u001b[0m \u001b[0msortkey\u001b[0m\u001b[1;33m(\u001b[0m\u001b[1;33m)\u001b[0m\u001b[1;33m:\u001b[0m\u001b[1;33m\u001b[0m\u001b[1;33m\u001b[0m\u001b[0m\n\u001b[0;32m      2\u001b[0m     \u001b[1;32mreturn\u001b[0m \u001b[0mresponse\u001b[0m\u001b[1;33m[\u001b[0m\u001b[1;34m'date'\u001b[0m\u001b[1;33m]\u001b[0m\u001b[1;33m.\u001b[0m\u001b[0msort\u001b[0m\u001b[1;33m(\u001b[0m\u001b[1;33m)\u001b[0m\u001b[1;33m\u001b[0m\u001b[1;33m\u001b[0m\u001b[0m\n\u001b[1;32m----> 3\u001b[1;33m \u001b[0mresponse\u001b[0m\u001b[1;33m.\u001b[0m\u001b[0msort\u001b[0m\u001b[1;33m(\u001b[0m\u001b[0mkey\u001b[0m\u001b[1;33m=\u001b[0m\u001b[0msortkey\u001b[0m\u001b[1;33m)\u001b[0m\u001b[1;33m\u001b[0m\u001b[1;33m\u001b[0m\u001b[0m\n\u001b[0m",
      "\u001b[1;31mTypeError\u001b[0m: sortkey() takes 0 positional arguments but 1 was given"
     ]
    }
   ],
   "source": [
    "def sortkey():\n",
    "    return response['date'].sort()\n",
    "response.sort(key=sortkey)"
   ]
  },
  {
   "cell_type": "code",
   "execution_count": 8,
   "metadata": {},
   "outputs": [
    {
     "name": "stdout",
     "output_type": "stream",
     "text": [
      "[{'date': '2022-02-04T06:00:00.000Z', 'value': 40}, {'date': '2022-02-08T06:00:00.000Z', 'value': 40}, {'date': '2022-02-10T13:10:00.000Z', 'value': 10}, {'date': '2022-02-10T13:15:00.000Z', 'value': 20}, {'date': '2022-02-10T13:20:00.000Z', 'value': 30}, {'date': '2022-02-10T13:30:00.000Z', 'value': 25}, {'date': '2022-02-12T07:00:00.000Z', 'value': 5}, {'date': '2022-02-28T06:00:00.000Z', 'value': 40}]\n"
     ]
    }
   ],
   "source": [
    "import datetime\n",
    "# Sort the data by date using a custom key function\n",
    "def sort_by_date(item):\n",
    "  # Parse the date string into a datetime object\n",
    "  return datetime.datetime.strptime(item['date'], '%Y-%m-%dT%H:%M:%S.%fZ')\n",
    "\n",
    "sorted_data = sorted(response, key=sort_by_date)\n",
    "\n",
    "# Print the sorted data\n",
    "print(sorted_data)"
   ]
  },
  {
   "cell_type": "code",
   "execution_count": null,
   "metadata": {},
   "outputs": [],
   "source": []
  },
  {
   "cell_type": "code",
   "execution_count": 110,
   "metadata": {},
   "outputs": [
    {
     "name": "stdout",
     "output_type": "stream",
     "text": [
      "[{'date': '2022-02-10T13:10:00.000Z', 'value': 10}, {'date': '2022-02-10T13:15:00.000Z', 'value': 20}, {'date': '2022-02-10T13:20:00.000Z', 'value': 30}, {'date': '2022-02-10T13:30:00.000Z', 'value': 25}, {'date': '2022-02-12T07:00:00.000Z', 'value': 5}, {'date': '2022-02-08T06:00:00.000Z', 'value': 40}, {'date': '2022-02-04T06:00:00.000Z', 'value': 40}, {'date': '2022-02-28T06:00:00.000Z', 'value': 40}]\n"
     ]
    }
   ],
   "source": [
    "import requests\n",
    "import json\n",
    "\n",
    "url = \"https://coderbyte.com/api/challenges/json/date-list\"\n",
    "response = requests.get(url)\n",
    "response = json.loads(response.text)\n",
    "print(response)"
   ]
  },
  {
   "cell_type": "code",
   "execution_count": 112,
   "metadata": {},
   "outputs": [
    {
     "data": {
      "text/html": [
       "<div>\n",
       "<style scoped>\n",
       "    .dataframe tbody tr th:only-of-type {\n",
       "        vertical-align: middle;\n",
       "    }\n",
       "\n",
       "    .dataframe tbody tr th {\n",
       "        vertical-align: top;\n",
       "    }\n",
       "\n",
       "    .dataframe thead th {\n",
       "        text-align: right;\n",
       "    }\n",
       "</style>\n",
       "<table border=\"1\" class=\"dataframe\">\n",
       "  <thead>\n",
       "    <tr style=\"text-align: right;\">\n",
       "      <th></th>\n",
       "      <th>date</th>\n",
       "      <th>value</th>\n",
       "    </tr>\n",
       "  </thead>\n",
       "  <tbody>\n",
       "    <tr>\n",
       "      <th>6</th>\n",
       "      <td>2022-02-04T06:00:00.000Z</td>\n",
       "      <td>40</td>\n",
       "    </tr>\n",
       "    <tr>\n",
       "      <th>5</th>\n",
       "      <td>2022-02-08T06:00:00.000Z</td>\n",
       "      <td>40</td>\n",
       "    </tr>\n",
       "    <tr>\n",
       "      <th>0</th>\n",
       "      <td>2022-02-10T13:10:00.000Z</td>\n",
       "      <td>10</td>\n",
       "    </tr>\n",
       "    <tr>\n",
       "      <th>1</th>\n",
       "      <td>2022-02-10T13:15:00.000Z</td>\n",
       "      <td>20</td>\n",
       "    </tr>\n",
       "    <tr>\n",
       "      <th>2</th>\n",
       "      <td>2022-02-10T13:20:00.000Z</td>\n",
       "      <td>30</td>\n",
       "    </tr>\n",
       "    <tr>\n",
       "      <th>3</th>\n",
       "      <td>2022-02-10T13:30:00.000Z</td>\n",
       "      <td>25</td>\n",
       "    </tr>\n",
       "    <tr>\n",
       "      <th>4</th>\n",
       "      <td>2022-02-12T07:00:00.000Z</td>\n",
       "      <td>5</td>\n",
       "    </tr>\n",
       "    <tr>\n",
       "      <th>7</th>\n",
       "      <td>2022-02-28T06:00:00.000Z</td>\n",
       "      <td>40</td>\n",
       "    </tr>\n",
       "  </tbody>\n",
       "</table>\n",
       "</div>"
      ],
      "text/plain": [
       "                       date  value\n",
       "6  2022-02-04T06:00:00.000Z     40\n",
       "5  2022-02-08T06:00:00.000Z     40\n",
       "0  2022-02-10T13:10:00.000Z     10\n",
       "1  2022-02-10T13:15:00.000Z     20\n",
       "2  2022-02-10T13:20:00.000Z     30\n",
       "3  2022-02-10T13:30:00.000Z     25\n",
       "4  2022-02-12T07:00:00.000Z      5\n",
       "7  2022-02-28T06:00:00.000Z     40"
      ]
     },
     "execution_count": 112,
     "metadata": {},
     "output_type": "execute_result"
    }
   ],
   "source": [
    "import pandas as pd\n",
    "df = pd.DataFrame(response)\n",
    "df.sort_values(by=['date'], inplace=True)\n",
    "df"
   ]
  },
  {
   "cell_type": "code",
   "execution_count": 113,
   "metadata": {},
   "outputs": [
    {
     "name": "stdout",
     "output_type": "stream",
     "text": [
      "6    2022-02-04T06:00:00.000Z\n",
      "5    2022-02-08T06:00:00.000Z\n",
      "0    2022-02-10T13:10:00.000Z\n",
      "1    2022-02-10T13:15:00.000Z\n",
      "2    2022-02-10T13:20:00.000Z\n",
      "3    2022-02-10T13:30:00.000Z\n",
      "4    2022-02-12T07:00:00.000Z\n",
      "7    2022-02-28T06:00:00.000Z\n",
      "Name: date, dtype: object\n"
     ]
    }
   ],
   "source": [
    "setofdate = df['date']\n",
    "print(setofdate)"
   ]
  },
  {
   "cell_type": "code",
   "execution_count": 122,
   "metadata": {},
   "outputs": [],
   "source": [
    "missing_date = {'date':['2022-02-05T05:00:00.000Z', '2022-02-06T05:00:00.000Z', '2022-02-07T05:00:00.000Z','2022-02-09T05:00:00.000Z', '2022-02-11T05:00:00.000Z', \n",
    "                '2022-02-13T05:00:00.000Z', '2022-02-14T05:00:00.000Z', '2022-02-15T05:00:00.000Z', '2022-02-16T05:00:00.000Z', '2022-02-17T05:00:00.000Z', '2022-02-18T05:00:00.000Z', \n",
    "                '2022-02-19T05:00:00.000Z', '2022-02-20T05:00:00.000Z', '2022-02-21T05:00:00.000Z', '2022-02-22T05:00:00.000Z', '2022-02-23T05:00:00.000Z', '2022-02-24T05:00:00.000Z', \n",
    "                '2022-02-25T05:00:00.000Z', '2022-02-26T05:00:00.000Z', '2022-02-27T05:00:00.000Z']\n",
    "             ,'value':[0,0,0,0,0,0,0,0,0,0,0,0,0,0,0,0,0,0,0,0]}\n",
    "missing_df = pd.DataFrame(missing_date)"
   ]
  },
  {
   "cell_type": "code",
   "execution_count": 123,
   "metadata": {},
   "outputs": [
    {
     "data": {
      "text/html": [
       "<div>\n",
       "<style scoped>\n",
       "    .dataframe tbody tr th:only-of-type {\n",
       "        vertical-align: middle;\n",
       "    }\n",
       "\n",
       "    .dataframe tbody tr th {\n",
       "        vertical-align: top;\n",
       "    }\n",
       "\n",
       "    .dataframe thead th {\n",
       "        text-align: right;\n",
       "    }\n",
       "</style>\n",
       "<table border=\"1\" class=\"dataframe\">\n",
       "  <thead>\n",
       "    <tr style=\"text-align: right;\">\n",
       "      <th></th>\n",
       "      <th>date</th>\n",
       "      <th>value</th>\n",
       "    </tr>\n",
       "  </thead>\n",
       "  <tbody>\n",
       "    <tr>\n",
       "      <th>6</th>\n",
       "      <td>2022-02-04T06:00:00.000Z</td>\n",
       "      <td>40</td>\n",
       "    </tr>\n",
       "    <tr>\n",
       "      <th>0</th>\n",
       "      <td>2022-02-05T05:00:00.000Z</td>\n",
       "      <td>0</td>\n",
       "    </tr>\n",
       "    <tr>\n",
       "      <th>1</th>\n",
       "      <td>2022-02-06T05:00:00.000Z</td>\n",
       "      <td>0</td>\n",
       "    </tr>\n",
       "    <tr>\n",
       "      <th>2</th>\n",
       "      <td>2022-02-07T05:00:00.000Z</td>\n",
       "      <td>0</td>\n",
       "    </tr>\n",
       "    <tr>\n",
       "      <th>5</th>\n",
       "      <td>2022-02-08T06:00:00.000Z</td>\n",
       "      <td>40</td>\n",
       "    </tr>\n",
       "    <tr>\n",
       "      <th>3</th>\n",
       "      <td>2022-02-09T05:00:00.000Z</td>\n",
       "      <td>0</td>\n",
       "    </tr>\n",
       "    <tr>\n",
       "      <th>0</th>\n",
       "      <td>2022-02-10T13:10:00.000Z</td>\n",
       "      <td>10</td>\n",
       "    </tr>\n",
       "    <tr>\n",
       "      <th>1</th>\n",
       "      <td>2022-02-10T13:15:00.000Z</td>\n",
       "      <td>20</td>\n",
       "    </tr>\n",
       "    <tr>\n",
       "      <th>2</th>\n",
       "      <td>2022-02-10T13:20:00.000Z</td>\n",
       "      <td>30</td>\n",
       "    </tr>\n",
       "    <tr>\n",
       "      <th>3</th>\n",
       "      <td>2022-02-10T13:30:00.000Z</td>\n",
       "      <td>25</td>\n",
       "    </tr>\n",
       "    <tr>\n",
       "      <th>4</th>\n",
       "      <td>2022-02-11T05:00:00.000Z</td>\n",
       "      <td>0</td>\n",
       "    </tr>\n",
       "    <tr>\n",
       "      <th>4</th>\n",
       "      <td>2022-02-12T07:00:00.000Z</td>\n",
       "      <td>5</td>\n",
       "    </tr>\n",
       "    <tr>\n",
       "      <th>5</th>\n",
       "      <td>2022-02-13T05:00:00.000Z</td>\n",
       "      <td>0</td>\n",
       "    </tr>\n",
       "    <tr>\n",
       "      <th>6</th>\n",
       "      <td>2022-02-14T05:00:00.000Z</td>\n",
       "      <td>0</td>\n",
       "    </tr>\n",
       "    <tr>\n",
       "      <th>7</th>\n",
       "      <td>2022-02-15T05:00:00.000Z</td>\n",
       "      <td>0</td>\n",
       "    </tr>\n",
       "    <tr>\n",
       "      <th>8</th>\n",
       "      <td>2022-02-16T05:00:00.000Z</td>\n",
       "      <td>0</td>\n",
       "    </tr>\n",
       "    <tr>\n",
       "      <th>9</th>\n",
       "      <td>2022-02-17T05:00:00.000Z</td>\n",
       "      <td>0</td>\n",
       "    </tr>\n",
       "    <tr>\n",
       "      <th>10</th>\n",
       "      <td>2022-02-18T05:00:00.000Z</td>\n",
       "      <td>0</td>\n",
       "    </tr>\n",
       "    <tr>\n",
       "      <th>11</th>\n",
       "      <td>2022-02-19T05:00:00.000Z</td>\n",
       "      <td>0</td>\n",
       "    </tr>\n",
       "    <tr>\n",
       "      <th>12</th>\n",
       "      <td>2022-02-20T05:00:00.000Z</td>\n",
       "      <td>0</td>\n",
       "    </tr>\n",
       "    <tr>\n",
       "      <th>13</th>\n",
       "      <td>2022-02-21T05:00:00.000Z</td>\n",
       "      <td>0</td>\n",
       "    </tr>\n",
       "    <tr>\n",
       "      <th>14</th>\n",
       "      <td>2022-02-22T05:00:00.000Z</td>\n",
       "      <td>0</td>\n",
       "    </tr>\n",
       "    <tr>\n",
       "      <th>15</th>\n",
       "      <td>2022-02-23T05:00:00.000Z</td>\n",
       "      <td>0</td>\n",
       "    </tr>\n",
       "    <tr>\n",
       "      <th>16</th>\n",
       "      <td>2022-02-24T05:00:00.000Z</td>\n",
       "      <td>0</td>\n",
       "    </tr>\n",
       "    <tr>\n",
       "      <th>17</th>\n",
       "      <td>2022-02-25T05:00:00.000Z</td>\n",
       "      <td>0</td>\n",
       "    </tr>\n",
       "    <tr>\n",
       "      <th>18</th>\n",
       "      <td>2022-02-26T05:00:00.000Z</td>\n",
       "      <td>0</td>\n",
       "    </tr>\n",
       "    <tr>\n",
       "      <th>19</th>\n",
       "      <td>2022-02-27T05:00:00.000Z</td>\n",
       "      <td>0</td>\n",
       "    </tr>\n",
       "    <tr>\n",
       "      <th>7</th>\n",
       "      <td>2022-02-28T06:00:00.000Z</td>\n",
       "      <td>40</td>\n",
       "    </tr>\n",
       "  </tbody>\n",
       "</table>\n",
       "</div>"
      ],
      "text/plain": [
       "                        date  value\n",
       "6   2022-02-04T06:00:00.000Z     40\n",
       "0   2022-02-05T05:00:00.000Z      0\n",
       "1   2022-02-06T05:00:00.000Z      0\n",
       "2   2022-02-07T05:00:00.000Z      0\n",
       "5   2022-02-08T06:00:00.000Z     40\n",
       "3   2022-02-09T05:00:00.000Z      0\n",
       "0   2022-02-10T13:10:00.000Z     10\n",
       "1   2022-02-10T13:15:00.000Z     20\n",
       "2   2022-02-10T13:20:00.000Z     30\n",
       "3   2022-02-10T13:30:00.000Z     25\n",
       "4   2022-02-11T05:00:00.000Z      0\n",
       "4   2022-02-12T07:00:00.000Z      5\n",
       "5   2022-02-13T05:00:00.000Z      0\n",
       "6   2022-02-14T05:00:00.000Z      0\n",
       "7   2022-02-15T05:00:00.000Z      0\n",
       "8   2022-02-16T05:00:00.000Z      0\n",
       "9   2022-02-17T05:00:00.000Z      0\n",
       "10  2022-02-18T05:00:00.000Z      0\n",
       "11  2022-02-19T05:00:00.000Z      0\n",
       "12  2022-02-20T05:00:00.000Z      0\n",
       "13  2022-02-21T05:00:00.000Z      0\n",
       "14  2022-02-22T05:00:00.000Z      0\n",
       "15  2022-02-23T05:00:00.000Z      0\n",
       "16  2022-02-24T05:00:00.000Z      0\n",
       "17  2022-02-25T05:00:00.000Z      0\n",
       "18  2022-02-26T05:00:00.000Z      0\n",
       "19  2022-02-27T05:00:00.000Z      0\n",
       "7   2022-02-28T06:00:00.000Z     40"
      ]
     },
     "execution_count": 123,
     "metadata": {},
     "output_type": "execute_result"
    }
   ],
   "source": [
    "df1 = pd.concat([df,missing_df]).sort_values('date')\n",
    "df1"
   ]
  },
  {
   "cell_type": "code",
   "execution_count": 125,
   "metadata": {},
   "outputs": [
    {
     "name": "stdout",
     "output_type": "stream",
     "text": [
      "[{\"date\":\"2022-02-04T06:00:00.000Z\",\"value\":40},{\"date\":\"2022-02-05T05:00:00.000Z\",\"value\":0},{\"date\":\"2022-02-06T05:00:00.000Z\",\"value\":0},{\"date\":\"2022-02-07T05:00:00.000Z\",\"value\":0},{\"date\":\"2022-02-08T06:00:00.000Z\",\"value\":40},{\"date\":\"2022-02-09T05:00:00.000Z\",\"value\":0},{\"date\":\"2022-02-10T13:10:00.000Z\",\"value\":10},{\"date\":\"2022-02-10T13:15:00.000Z\",\"value\":20},{\"date\":\"2022-02-10T13:20:00.000Z\",\"value\":30},{\"date\":\"2022-02-10T13:30:00.000Z\",\"value\":25},{\"date\":\"2022-02-11T05:00:00.000Z\",\"value\":0},{\"date\":\"2022-02-12T07:00:00.000Z\",\"value\":5},{\"date\":\"2022-02-13T05:00:00.000Z\",\"value\":0},{\"date\":\"2022-02-14T05:00:00.000Z\",\"value\":0},{\"date\":\"2022-02-15T05:00:00.000Z\",\"value\":0},{\"date\":\"2022-02-16T05:00:00.000Z\",\"value\":0},{\"date\":\"2022-02-17T05:00:00.000Z\",\"value\":0},{\"date\":\"2022-02-18T05:00:00.000Z\",\"value\":0},{\"date\":\"2022-02-19T05:00:00.000Z\",\"value\":0},{\"date\":\"2022-02-20T05:00:00.000Z\",\"value\":0},{\"date\":\"2022-02-21T05:00:00.000Z\",\"value\":0},{\"date\":\"2022-02-22T05:00:00.000Z\",\"value\":0},{\"date\":\"2022-02-23T05:00:00.000Z\",\"value\":0},{\"date\":\"2022-02-24T05:00:00.000Z\",\"value\":0},{\"date\":\"2022-02-25T05:00:00.000Z\",\"value\":0},{\"date\":\"2022-02-26T05:00:00.000Z\",\"value\":0},{\"date\":\"2022-02-27T05:00:00.000Z\",\"value\":0},{\"date\":\"2022-02-28T06:00:00.000Z\",\"value\":40}]\n"
     ]
    }
   ],
   "source": [
    "response = df1.to_json(orient='records')\n",
    "print(response)"
   ]
  },
  {
   "cell_type": "code",
   "execution_count": 130,
   "metadata": {},
   "outputs": [
    {
     "name": "stdout",
     "output_type": "stream",
     "text": [
      "{'product_A': 4, 'product_B': 2, 'product_C': 1}\n"
     ]
    }
   ],
   "source": [
    "def update_shopping_cart(cart, action):\n",
    "  product_id = action.get(\"product_id\")  # Ensure case-insensitivity\n",
    "\n",
    "  if product_id not in cart:\n",
    "    cart[product_id] = action.get(\"quantity\", 0)  # Add quantity if new product\n",
    "  else:\n",
    "    if action[\"type\"] == \"add\":\n",
    "      cart[product_id] += action.get(\"quantity\", 1)  # Add specified or default quantity (1)\n",
    "    elif action[\"type\"] == \"remove\":\n",
    "      if cart[product_id] > 0:  # Remove only if quantity is positive\n",
    "        cart[product_id] -= 1\n",
    "    elif action[\"type\"] == \"change\":\n",
    "      cart[product_id] = action.get(\"quantity\", 0)  # Set the new quantity\n",
    "\n",
    "  return cart\n",
    "\n",
    "\n",
    "print(update_shopping_cart({\"product_A\": 4, \"product_B\": 3, \"product_C\": 1}, { \"type\": \"change\", \"product_id\": \"product_B\", \"quantity\": 2 }))"
   ]
  },
  {
   "cell_type": "code",
   "execution_count": 132,
   "metadata": {},
   "outputs": [
    {
     "name": "stdout",
     "output_type": "stream",
     "text": [
      "{'product_1': 2, 'product_2': 1, 'product_3': 3}\n"
     ]
    }
   ],
   "source": [
    "def update_shopping_cart(cart, action):\n",
    "  \"\"\"Updates the shopping cart based on the user action.\n",
    "\n",
    "  Args:\n",
    "    cart: A dictionary where the keys are product IDs (strings) and the values\n",
    "          are the number of that product currently in the cart (integers).\n",
    "    action: A dictionary representing the user's action. It has three keys:\n",
    "            * type: A string that can be either \"add\", \"remove\", or \"change\".\n",
    "            * product_id: The product ID of the product being affected.\n",
    "            * quantity (optional): An integer representing the quantity to add\n",
    "              or the new quantity to set (only present for \"add\" and \"change\" actions).\n",
    "\n",
    "  Returns:\n",
    "    An updated dictionary representing the shopping cart after the action is performed.\n",
    "  \"\"\"\n",
    "\n",
    "  # Get the type of action and product ID from the action dictionary\n",
    "  action_type = action[\"type\"]\n",
    "  product_id = action[\"product_id\"]\n",
    "\n",
    "  # Check the action type and update the cart accordingly\n",
    "  if action_type == \"add\":\n",
    "    # If the product is already in the cart, increment its quantity\n",
    "    if product_id in cart:\n",
    "      cart[product_id] += action.get(\"quantity\", 1)  # Default quantity to 1 if not provided\n",
    "    # Otherwise, add the product to the cart with the specified quantity\n",
    "    else:\n",
    "      cart[product_id] = action.get(\"quantity\", 1)  # Default quantity to 1 if not provided\n",
    "\n",
    "  elif action_type == \"remove\":\n",
    "    # If the product is in the cart, remove it\n",
    "    if product_id in cart:\n",
    "      del cart[product_id]\n",
    "\n",
    "  elif action_type == \"change\":\n",
    "    # If the product is in the cart, set its quantity to the new value\n",
    "    if product_id in cart:\n",
    "      cart[product_id] = action.get(\"quantity\", 1)  # Default quantity to 1 if not provided\n",
    "    # Otherwise, add the product to the cart with the specified quantity\n",
    "    else:\n",
    "      cart[product_id] = action.get(\"quantity\", 1)  # Default quantity to 1 if not provided\n",
    "\n",
    "  # Return the updated cart\n",
    "  return cart\n",
    "\n",
    "# Example usage\n",
    "cart = {\"product_1\": 2, \"product_2\": 1}\n",
    "action = {\"type\": \"add\", \"product_id\": \"product_3\", \"quantity\": 3}\n",
    "updated_cart = update_shopping_cart(cart.copy(), action)\n",
    "print(updated_cart)  # Output: {'product_1': 2, 'product_2': 1, 'product_3': 3}\n"
   ]
  }
 ],
 "metadata": {
  "kernelspec": {
   "display_name": "base",
   "language": "python",
   "name": "python3"
  },
  "language_info": {
   "codemirror_mode": {
    "name": "ipython",
    "version": 3
   },
   "file_extension": ".py",
   "mimetype": "text/x-python",
   "name": "python",
   "nbconvert_exporter": "python",
   "pygments_lexer": "ipython3",
   "version": "3.8.5"
  }
 },
 "nbformat": 4,
 "nbformat_minor": 2
}
