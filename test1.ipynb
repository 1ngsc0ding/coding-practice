{
 "cells": [
  {
   "cell_type": "code",
   "execution_count": 5,
   "metadata": {},
   "outputs": [
    {
     "name": "stdout",
     "output_type": "stream",
     "text": [
      "-1\n",
      "-1\n",
      "-1\n"
     ]
    }
   ],
   "source": [
    "def StringPeriods(strParam):\n",
    "    for i in range(len(strParam) // 2, 0, -1):\n",
    "        pattern = strParam[:i]\n",
    "        if pattern * (len(strParam) // len(pattern) == strParam):\n",
    "        if pattern * (len(strParam) // len(pattern)) == strParam:\n",
    "            return pattern\n",
    "    return  -1\n",
    "\n",
    "# keep this function call here \n",
    "# print(StringPeriods(input()))\n",
    "print(StringPeriods(\"abcababcab\"))\n",
    "print(StringPeriods(\"abcabxabcab\"))\n",
    "print(StringPeriods(\"xyzabxyzab\"))"
   ]
  }
 ],
 "metadata": {
  "kernelspec": {
   "display_name": "base",
   "language": "python",
   "name": "python3"
  },
  "language_info": {
   "codemirror_mode": {
    "name": "ipython",
    "version": 3
   },
   "file_extension": ".py",
   "mimetype": "text/x-python",
   "name": "python",
   "nbconvert_exporter": "python",
   "pygments_lexer": "ipython3",
   "version": "3.8.5"
  }
 },
 "nbformat": 4,
 "nbformat_minor": 2
}
